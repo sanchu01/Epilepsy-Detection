{
  "nbformat": 4,
  "nbformat_minor": 0,
  "metadata": {
    "colab": {
      "provenance": [],
      "collapsed_sections": []
    },
    "kernelspec": {
      "name": "python3",
      "display_name": "Python 3"
    },
    "language_info": {
      "name": "python"
    }
  },
  "cells": [
    {
      "cell_type": "code",
      "execution_count": null,
      "metadata": {
        "id": "ORM_99rQyIRp"
      },
      "outputs": [],
      "source": [
        "import numpy as np\n",
        "from os import listdir, mkdir\n",
        "from os.path import isfile, join\n",
        "import h5py as h5\n",
        "import matplotlib.pyplot as plt\n",
        "from tensorflow.python.framework import ops\n",
        "from os import path\n",
        "import os"
      ]
    },
    {
      "cell_type": "code",
      "source": [
        "export_to = 'random-iter-1/'"
      ],
      "metadata": {
        "id": "aPDcOkYUyOwB"
      },
      "execution_count": null,
      "outputs": []
    },
    {
      "cell_type": "code",
      "source": [
        "# If this code shows an error, the directory probably already exists\n",
        "# In that case, increment the above export_to variable's value\n",
        "# Example previous export_to = 'random-iter-4'. Set to 'random-iter-5'\n",
        "\n",
        "mkdir(export_to)\n",
        "print(\"Directory created\")"
      ],
      "metadata": {
        "id": "-K-XDyCgyOsk"
      },
      "execution_count": null,
      "outputs": []
    },
    {
      "cell_type": "code",
      "source": [
        "# Mapping from folder names (ZONFS) to set names (ABCDE)\n",
        "\n",
        "mapping_set_to_dir = {\n",
        "    'A': (0,'/content/random-iter-1/Z'),\n",
        "    'B': (1,'/content/random-iter-1/O'),\n",
        "    'C': (2,'/content/random-iter-1/N'),\n",
        "    'D': (3,'/content/random-iter-1/F'),\n",
        "    'E': (4,'/content/random-iter-1/S')\n",
        "}\n"
      ],
      "metadata": {
        "id": "awZWpjQQyOpR"
      },
      "execution_count": null,
      "outputs": []
    },
    {
      "cell_type": "code",
      "source": [
        "file_lists = []\n",
        "for s,d in mapping_set_to_dir.items():\n",
        "    file_lists.insert(d[0], [f for f in listdir(d[1]) if isfile(join(d[1], f))])"
      ],
      "metadata": {
        "id": "e3YFz3Hsy4yY"
      },
      "execution_count": null,
      "outputs": []
    },
    {
      "cell_type": "code",
      "source": [
        "file_lists[4]"
      ],
      "metadata": {
        "id": "loFcBQb4yOmI",
        "colab": {
          "base_uri": "https://localhost:8080/"
        },
        "outputId": "2c495729-cd3a-478c-c803-416fd76d95f4"
      },
      "execution_count": null,
      "outputs": [
        {
          "output_type": "execute_result",
          "data": {
            "text/plain": [
              "['S077.txt',\n",
              " 'S088.txt',\n",
              " 'S081.txt',\n",
              " 'S063.txt',\n",
              " 'S097.txt',\n",
              " 'S090.txt',\n",
              " 'S084.txt',\n",
              " 'S075.txt',\n",
              " 'S098.txt',\n",
              " 'S032.txt',\n",
              " 'S082.txt',\n",
              " 'S094.txt',\n",
              " 'S092.txt',\n",
              " 'S091.txt',\n",
              " 'S053.txt',\n",
              " 'S008.txt',\n",
              " 'S026.txt',\n",
              " 'S068.txt',\n",
              " 'S022.txt',\n",
              " 'S054.txt',\n",
              " 'S021.txt',\n",
              " 'S087.txt',\n",
              " 'S009.txt',\n",
              " 'S025.txt',\n",
              " 'S086.txt',\n",
              " 'S037.txt',\n",
              " 'S007.txt',\n",
              " 'S029.txt',\n",
              " 'S048.txt',\n",
              " 'S011.txt',\n",
              " 'S018.txt',\n",
              " 'S064.txt',\n",
              " 'S033.txt',\n",
              " 'S060.txt',\n",
              " 'S003.txt',\n",
              " 'S027.txt',\n",
              " 'S070.txt',\n",
              " 'S061.txt',\n",
              " 'S005.txt',\n",
              " 'S017.txt',\n",
              " 'S093.txt',\n",
              " 'S041.txt',\n",
              " 'S083.txt',\n",
              " 'S056.txt',\n",
              " 'S100.txt',\n",
              " 'S002.txt',\n",
              " 'S079.txt',\n",
              " 'S043.txt',\n",
              " 'S001.txt',\n",
              " 'S095.txt',\n",
              " 'S042.txt',\n",
              " 'S035.txt',\n",
              " 'S059.txt',\n",
              " 'S071.txt',\n",
              " 'S039.txt',\n",
              " 'S047.txt',\n",
              " 'S099.txt',\n",
              " 'S034.txt',\n",
              " 'S030.txt',\n",
              " 'S046.txt',\n",
              " 'S058.txt',\n",
              " 'S057.txt',\n",
              " 'S040.txt',\n",
              " 'S038.txt',\n",
              " 'S085.txt',\n",
              " 'S015.txt',\n",
              " 'S004.txt',\n",
              " 'S062.txt',\n",
              " 'S044.txt',\n",
              " 'S051.txt',\n",
              " 'S073.txt',\n",
              " 'S024.txt',\n",
              " 'S045.txt',\n",
              " 'S089.txt',\n",
              " 'S014.txt',\n",
              " 'S049.txt',\n",
              " 'S012.txt',\n",
              " 'S023.txt',\n",
              " 'S019.txt',\n",
              " 'S096.txt',\n",
              " 'S020.txt',\n",
              " 'S031.txt',\n",
              " 'S065.txt',\n",
              " 'S010.txt',\n",
              " 'S016.txt',\n",
              " 'S074.txt',\n",
              " 'S067.txt',\n",
              " 'S072.txt',\n",
              " 'S028.txt',\n",
              " 'S055.txt',\n",
              " 'S036.txt',\n",
              " 'S080.txt',\n",
              " 'S006.txt',\n",
              " 'S078.txt',\n",
              " 'S050.txt',\n",
              " 'S076.txt',\n",
              " 'S052.txt',\n",
              " 'S066.txt',\n",
              " 'S069.txt',\n",
              " 'S013.txt']"
            ]
          },
          "metadata": {},
          "execution_count": 6
        }
      ]
    },
    {
      "cell_type": "code",
      "source": [
        "# Read every file from each data folder and store in the dictionary raw_dataset\n",
        "# Please make sure there are no junk files present in the folder\n",
        "\n",
        "raw_dataset = { }\n",
        "\n",
        "for s,d in mapping_set_to_dir.items():\n",
        "    \n",
        "    for f in file_lists[d[0]]:\n",
        "        curr_example = np.loadtxt(join(d[1], f))\n",
        "        \n",
        "\n",
        "        if (s in raw_dataset):\n",
        "            raw_dataset[s] = np.append(raw_dataset[s], [curr_example], axis=0)\n",
        "        else:\n",
        "            raw_dataset[s] = np.array([curr_example])"
      ],
      "metadata": {
        "id": "UvnP0R8ByOjl"
      },
      "execution_count": null,
      "outputs": []
    },
    {
      "cell_type": "code",
      "source": [
        "raw_dataset['E'].shape"
      ],
      "metadata": {
        "id": "JWSb1uMyyOgs",
        "colab": {
          "base_uri": "https://localhost:8080/"
        },
        "outputId": "b4223d3d-4116-44fb-f096-9c2688ec1bc8"
      },
      "execution_count": null,
      "outputs": [
        {
          "output_type": "execute_result",
          "data": {
            "text/plain": [
              "(100, 4097)"
            ]
          },
          "metadata": {},
          "execution_count": 8
        }
      ]
    },
    {
      "cell_type": "code",
      "source": [
        "#Visualizing the data\n",
        "s = 'E'\n",
        "index = 46\n",
        "\n",
        "plot_title = ''\n",
        "if (s in ['A', 'B']):\n",
        "    plot_title = 'Sample signal from non-epileptic person'\n",
        "elif (s in ['C', 'D']):\n",
        "    plot_title = 'Sample signal from epileptic person (non-ictal / non-seizure)'\n",
        "elif (s == 'E'):\n",
        "    plot_title = 'Sample signal from epileptic person (ictal / seizure)'\n",
        "else:\n",
        "    print('s can be one of A,B,C,D,E')\n",
        "\n",
        "plt.figure(figsize=(8,4))\n",
        "plt.plot(raw_dataset[s][index], linewidth=0.7)\n",
        "plt.title(plot_title)\n",
        "plt.xlabel('Seconds')\n",
        "plt.ylabel('EEG Signal (\\u00B5V)')\n",
        "tick_points = np.arange(0,9)*500 # each signal contains 4097 data points\n",
        "plt.xticks(tick_points, np.round((tick_points/173.16)*10)/10) # mapping n-th data point to the time in seconds from the start of signal (173.16 Hz)\n",
        "plt.show()"
      ],
      "metadata": {
        "id": "KKQGItmnyOd9",
        "colab": {
          "base_uri": "https://localhost:8080/",
          "height": 295
        },
        "outputId": "78d23cd7-f38e-4e7c-8065-979277803037"
      },
      "execution_count": null,
      "outputs": [
        {
          "output_type": "display_data",
          "data": {
            "text/plain": [
              "<Figure size 576x288 with 1 Axes>"
            ],
            "image/png": "[encoded data removed]"
          },
          "metadata": {
            "needs_background": "light"
          }
        }
      ]
    },
    {
      "cell_type": "code",
      "source": [
        "#Data Augmentation\n",
        "def create_augmented_dataset(raw_dataset, window_size = 512, stride = 64, verbose=False):\n",
        "    \"\"\"\n",
        "    This function augments the dataset using sliding windows\n",
        "    \n",
        "    Parameters:\n",
        "    raw_dataset: Dictionary containing a batch of examples for one set in each key\n",
        "    window_size: Sliding window size\n",
        "    stride: Steps by which sliding window moves and samples\n",
        "    verbose: Display progress\n",
        "    \n",
        "    Returns:\n",
        "    augmented_dataset: Dictionary containing a batch of smaller augmented examples than raw_dataset\n",
        "    \n",
        "    \n",
        "    \"\"\"\n",
        "    \n",
        "    augmented_dataset = { }\n",
        "\n",
        "    for s,Xset_raw in raw_dataset.items():\n",
        "        \n",
        "        if (verbose):\n",
        "            print('Processing set ' + s)\n",
        "\n",
        "        total_points = Xset_raw.shape[1]\n",
        "\n",
        "        # no. of examples generated from single training example using sliding window\n",
        "        # = floor((total_points - window_size) / stride) + 1\n",
        "        iterations = ((total_points - window_size) // stride) + 1\n",
        "\n",
        "        for x_raw in Xset_raw:\n",
        "\n",
        "            for i in range(iterations):\n",
        "                window_slice_from = i*stride\n",
        "                window_slice_to = i*stride + window_size\n",
        "\n",
        "                if (s in augmented_dataset):\n",
        "                    augmented_dataset[s] = np.append(augmented_dataset[s], [x_raw[window_slice_from:window_slice_to]], axis=0)\n",
        "                else:\n",
        "                    augmented_dataset[s] = np.array([x_raw[window_slice_from:window_slice_to]])\n",
        "\n",
        "    \n",
        "    if (verbose):\n",
        "        print('Done.')\n",
        "    return augmented_dataset"
      ],
      "metadata": {
        "id": "CcVf_ZmWyOYK"
      },
      "execution_count": null,
      "outputs": []
    },
    {
      "cell_type": "code",
      "source": [
        "#Splitting of the data\n",
        "#After randomly shuffling of the dataset, we take three sets, train (90%), dev (5%), and test (5%).\n",
        "raw_dataset_train = { }\n",
        "raw_dataset_dev = { }\n",
        "raw_dataset_test = { }\n",
        "\n",
        "for s,Xset_raw in raw_dataset.items():\n",
        "    \n",
        "    # randomly shuffle the data, just to make sure\n",
        "    # that all train/dev/test sets come from same\n",
        "    # distribution, (possibly not from a same person)\n",
        "    np.random.shuffle(raw_dataset[s])\n",
        "    \n",
        "    ninety_percent = np.floor(0.9 * raw_dataset[s].shape[0]).astype(int)\n",
        "    five_percent = np.floor(0.05 * raw_dataset[s].shape[0]).astype(int)\n",
        "    \n",
        "    # train set 0 - 89 (90%)\n",
        "    raw_dataset_train[s] = raw_dataset[s][0:ninety_percent,:]\n",
        "    \n",
        "    # dev set 90 - 94 (5%)\n",
        "    raw_dataset_dev[s] = raw_dataset[s][ninety_percent:ninety_percent+five_percent,:]\n",
        "    \n",
        "    # test set 95 - 99 (5%)\n",
        "    raw_dataset_test[s] = raw_dataset[s][ninety_percent+five_percent:,:]"
      ],
      "metadata": {
        "id": "mCCobPPQyNzx"
      },
      "execution_count": null,
      "outputs": []
    },
    {
      "cell_type": "code",
      "source": [
        "print(raw_dataset_train['D'].shape)\n",
        "print(raw_dataset_dev['A'].shape)\n",
        "print(raw_dataset_test['C'].shape)"
      ],
      "metadata": {
        "id": "0dTzV4xfy1GW",
        "colab": {
          "base_uri": "https://localhost:8080/"
        },
        "outputId": "41022485-0ec2-459a-bd4f-c5d61e77c9bb"
      },
      "execution_count": null,
      "outputs": [
        {
          "output_type": "stream",
          "name": "stdout",
          "text": [
            "(90, 4097)\n",
            "(5, 4097)\n",
            "(5, 4097)\n"
          ]
        }
      ]
    },
    {
      "cell_type": "code",
      "source": [
        "#Scheme 1\n",
        "print(\"Augmenting training data\")\n",
        "aug_dataset512_train = create_augmented_dataset(raw_dataset_train, window_size=512, stride=64, verbose=True)\n",
        "\n",
        "print(\"Augmenting dev data\")\n",
        "aug_dataset512_dev = create_augmented_dataset(raw_dataset_dev, window_size=512, stride=256, verbose=True)\n",
        "\n",
        "print(\"Augmenting test data\")\n",
        "aug_dataset512_test = create_augmented_dataset(raw_dataset_test, window_size=512, stride=256, verbose=True)"
      ],
      "metadata": {
        "id": "n_jrXeNWy1C1",
        "colab": {
          "base_uri": "https://localhost:8080/"
        },
        "outputId": "039a4374-6b6b-42de-93bd-ae3a80df1612"
      },
      "execution_count": null,
      "outputs": [
        {
          "output_type": "stream",
          "name": "stdout",
          "text": [
            "Augmenting training data\n",
            "Processing set A\n",
            "Processing set B\n",
            "Processing set C\n",
            "Processing set D\n",
            "Processing set E\n",
            "Done.\n",
            "Augmenting dev data\n",
            "Processing set A\n",
            "Processing set B\n",
            "Processing set C\n",
            "Processing set D\n",
            "Processing set E\n",
            "Done.\n",
            "Augmenting test data\n",
            "Processing set A\n",
            "Processing set B\n",
            "Processing set C\n",
            "Processing set D\n",
            "Processing set E\n",
            "Done.\n"
          ]
        }
      ]
    },
    {
      "cell_type": "code",
      "source": [
        "#Scheme 2\n",
        "print('Augmenting training data')\n",
        "aug_dataset1024_train = create_augmented_dataset(raw_dataset_train, window_size=1024, stride=128, verbose=True)\n",
        "\n",
        "print ('Augmenting dev data')\n",
        "aug_dataset1024_dev = create_augmented_dataset(raw_dataset_dev, window_size=1024, stride=512, verbose=True)\n",
        "\n",
        "print('Augmenting test data')\n",
        "aug_dataset1024_test = create_augmented_dataset(raw_dataset_test, window_size=1024, stride=512, verbose=True)"
      ],
      "metadata": {
        "id": "rrSQ8-Hdy0_1",
        "colab": {
          "base_uri": "https://localhost:8080/"
        },
        "outputId": "1733ced7-d705-479e-b0b3-ec855b054a2e"
      },
      "execution_count": null,
      "outputs": [
        {
          "output_type": "stream",
          "name": "stdout",
          "text": [
            "Augmenting training data\n",
            "Processing set A\n",
            "Processing set B\n",
            "Processing set C\n",
            "Processing set D\n",
            "Processing set E\n",
            "Done.\n",
            "Augmenting dev data\n",
            "Processing set A\n",
            "Processing set B\n",
            "Processing set C\n",
            "Processing set D\n",
            "Processing set E\n",
            "Done.\n",
            "Augmenting test data\n",
            "Processing set A\n",
            "Processing set B\n",
            "Processing set C\n",
            "Processing set D\n",
            "Processing set E\n",
            "Done.\n"
          ]
        }
      ]
    },
    {
      "cell_type": "code",
      "source": [
        "print(aug_dataset512_train['E'].shape)\n",
        "print(aug_dataset512_dev['C'].shape)\n",
        "print(aug_dataset512_test['D'].shape)"
      ],
      "metadata": {
        "id": "EtG4ybHEy088",
        "colab": {
          "base_uri": "https://localhost:8080/"
        },
        "outputId": "e214e43c-43d4-47f7-eeb3-dc03ad3da841"
      },
      "execution_count": null,
      "outputs": [
        {
          "output_type": "stream",
          "name": "stdout",
          "text": [
            "(5130, 512)\n",
            "(75, 512)\n",
            "(75, 512)\n"
          ]
        }
      ]
    },
    {
      "cell_type": "code",
      "source": [
        "print(aug_dataset1024_train['E'].shape)\n",
        "print(aug_dataset1024_dev['C'].shape)\n",
        "print(aug_dataset1024_test['D'].shape)"
      ],
      "metadata": {
        "id": "hnrPzFJuy06D",
        "colab": {
          "base_uri": "https://localhost:8080/"
        },
        "outputId": "1116bd2f-4053-4632-e17c-7129f5e63a01"
      },
      "execution_count": null,
      "outputs": [
        {
          "output_type": "stream",
          "name": "stdout",
          "text": [
            "(2250, 1024)\n",
            "(35, 1024)\n",
            "(35, 1024)\n"
          ]
        }
      ]
    },
    {
      "cell_type": "code",
      "source": [
        "#Saving the data\n",
        "with h5.File(export_to + 'aug_dataset512.h5', 'w') as aug_file512:\n",
        "    \n",
        "    train512 = aug_file512.create_group('train')\n",
        "    dev512 = aug_file512.create_group('dev')\n",
        "    test512 = aug_file512.create_group('test')\n",
        "\n",
        "    for s in aug_dataset512_train.keys():\n",
        "        \n",
        "        train512.create_dataset(s, data=aug_dataset512_train[s])\n",
        "        dev512.create_dataset(s, data=aug_dataset512_dev[s])\n",
        "        test512.create_dataset(s, data=aug_dataset512_test[s])"
      ],
      "metadata": {
        "id": "--eIctToy027"
      },
      "execution_count": null,
      "outputs": []
    },
    {
      "cell_type": "code",
      "source": [
        "aug_file512 = h5.File(export_to + 'aug_dataset512.h5', 'r')\n",
        "print(aug_file512['train']['A'].shape)\n",
        "print(aug_file512['dev']['C'].shape)\n",
        "print(aug_file512['test']['D'].shape)"
      ],
      "metadata": {
        "id": "fcuT5tNKzEOY",
        "colab": {
          "base_uri": "https://localhost:8080/"
        },
        "outputId": "0cd6bf26-5362-4c46-ef03-5f52c771f267"
      },
      "execution_count": null,
      "outputs": [
        {
          "output_type": "stream",
          "name": "stdout",
          "text": [
            "(5130, 512)\n",
            "(75, 512)\n",
            "(75, 512)\n"
          ]
        }
      ]
    },
    {
      "cell_type": "code",
      "source": [
        "#Saving the data\n",
        "with h5.File(export_to + 'aug_dataset1024.h5', 'w') as aug_file1024:\n",
        "    \n",
        "    train1024 = aug_file1024.create_group('train')\n",
        "    dev1024 = aug_file1024.create_group('dev')\n",
        "    test1024 = aug_file1024.create_group('test')\n",
        "\n",
        "    for s in aug_dataset1024_train.keys():\n",
        "        \n",
        "        train1024.create_dataset(s, data=aug_dataset1024_train[s])\n",
        "        dev1024.create_dataset(s, data=aug_dataset1024_dev[s])\n",
        "        test1024.create_dataset(s, data=aug_dataset1024_test[s])"
      ],
      "metadata": {
        "id": "M1LTcY2L8zCK"
      },
      "execution_count": null,
      "outputs": []
    },
    {
      "cell_type": "code",
      "source": [
        "aug_file1024 = h5.File(export_to + 'aug_dataset1024.h5', 'r')\n",
        "print(aug_file1024['train']['A'].shape)\n",
        "print(aug_file1024['dev']['C'].shape)\n",
        "print(aug_file1024['test']['D'].shape)"
      ],
      "metadata": {
        "id": "ld1l19IhzELQ",
        "colab": {
          "base_uri": "https://localhost:8080/"
        },
        "outputId": "786cb69c-0bcb-4590-b7c4-4da66ad8f243"
      },
      "execution_count": null,
      "outputs": [
        {
          "output_type": "stream",
          "name": "stdout",
          "text": [
            "(2250, 1024)\n",
            "(35, 1024)\n",
            "(35, 1024)\n"
          ]
        }
      ]
    },
    {
      "cell_type": "code",
      "source": [
        "#Visualizing augmented examples\n",
        "s = 'B'\n",
        "index = 400\n",
        "plt.plot(aug_file512['train'][s][index])"
      ],
      "metadata": {
        "id": "KGllVpEAzEI6",
        "colab": {
          "base_uri": "https://localhost:8080/",
          "height": 282
        },
        "outputId": "4082dd6d-4d19-4aed-9c4a-130e8d4c3209"
      },
      "execution_count": null,
      "outputs": [
        {
          "output_type": "execute_result",
          "data": {
            "text/plain": [
              "[<matplotlib.lines.Line2D at 0x7f44674d8150>]"
            ]
          },
          "metadata": {},
          "execution_count": 21
        },
        {
          "output_type": "display_data",
          "data": {
            "text/plain": [
              "<Figure size 432x288 with 1 Axes>"
            ],
            "image/png": "[encoded data removed]"
          },
          "metadata": {
            "needs_background": "light"
          }
        }
      ]
    },
    {
      "cell_type": "code",
      "source": [
        "s = 'E'\n",
        "index = 175\n",
        "plt.plot(aug_file1024['train'][s][index])"
      ],
      "metadata": {
        "id": "pHX04YTtzXp8",
        "colab": {
          "base_uri": "https://localhost:8080/",
          "height": 282
        },
        "outputId": "bdc8a460-37f3-4733-963b-58aac09c426d"
      },
      "execution_count": null,
      "outputs": [
        {
          "output_type": "execute_result",
          "data": {
            "text/plain": [
              "[<matplotlib.lines.Line2D at 0x7f446743da50>]"
            ]
          },
          "metadata": {},
          "execution_count": 22
        },
        {
          "output_type": "display_data",
          "data": {
            "text/plain": [
              "<Figure size 432x288 with 1 Axes>"
            ],
            "image/png": "[encoded data removed]"
          },
          "metadata": {
            "needs_background": "light"
          }
        }
      ]
    },
    {
      "cell_type": "code",
      "source": [
        "aug_file512.close()\n",
        "# aug_file1024.close()"
      ],
      "metadata": {
        "id": "Ohj1OMYBy0sq"
      },
      "execution_count": null,
      "outputs": []
    },
    {
      "cell_type": "code",
      "source": [
        "#One hot labels\n",
        "\n",
        "import tensorflow as tf\n",
        "tf.compat.v1.reset_default_graph\n",
        "from tensorflow.keras.models import Sequential"
      ],
      "metadata": {
        "id": "Htua4z_-y0HB"
      },
      "execution_count": null,
      "outputs": []
    },
    {
      "cell_type": "code",
      "source": [
        "import tensorflow.compat.v1 as tf\n",
        "# from tensorflow.python.framework import ops\n",
        "# ops.reset_default_graph()\n",
        "\n",
        "# For 3 class classification\n",
        "class_map = { 'A': 0, 'B': 0, 'C': 1, 'D': 1, 'E': 2 }\n",
        "\n",
        "def read_dataset_and_one_hot_labels(filepath, setname, verbose=False):\n",
        "    \"\"\"\n",
        "    Converts the dataset's labels into one-hot encoding\n",
        "    \n",
        "    Parameters:\n",
        "    filepath: augmented dataset without one-hot encoding\n",
        "    setname: either 'train', 'dev', or 'test'\n",
        "    verbose: Display progress\n",
        "    \n",
        "    Returns:\n",
        "    data: dataset with keys X_<setname>, Y_<setname>_classname, and Y_<setname> (one-hot labels). \n",
        "    \"\"\"\n",
        "    \n",
        "    data = { }\n",
        "\n",
        "    # Read dataset that is already stored in the file\n",
        "    with h5.File(filepath, 'r') as aug_file:\n",
        "\n",
        "        # classes are AB, CD, and E\n",
        "        no_of_classes = 3\n",
        "\n",
        "        for s in aug_file[setname].keys():\n",
        "            \n",
        "            if (verbose):\n",
        "                print(\"Processing class: \" + s)\n",
        "            \n",
        "            class_length = len(aug_file[setname][s])\n",
        "            \n",
        "            # go through each example in the class\n",
        "            for i in range(class_length):\n",
        "                \n",
        "                if (verbose and i % (class_length / 5) == 0):\n",
        "                    print((str)((int)(i / class_length * 100)) + '%')\n",
        "                \n",
        "                # create a big (combination of all classes) dataset\n",
        "                # and also set their labels in a separate array\n",
        "                if (('X_' + setname) in data):\n",
        "                    data['X_' + setname] = np.append(data['X_' + setname], [aug_file[setname][s][i]], axis=0)\n",
        "                    data['Y_' + setname + '_classname'] = np.append(data['Y_' + setname + '_classname'], [class_map[s]], axis=0)\n",
        "                else:\n",
        "                    data['X_' + setname] = np.array([aug_file[setname][s][i]])\n",
        "                    data['Y_' + setname + '_classname'] = np.array([class_map[s]])\n",
        "\n",
        "\n",
        "        \n",
        "        if (verbose):\n",
        "            print(\"Converting to one_hot\")\n",
        "            \n",
        "        # use tensorflow one_hot function to convert labels into one_hot values\n",
        "      \n",
        "        # tf.compat.v1.reset_default_graph()\n",
        "        \n",
        "        tf.compat.v1.global_variables_initializer()\n",
        "\n",
        "        # init = tf.global_variables_initializer()\n",
        "        \n",
        "        # with tf.compat.v1.Session() as sess:\n",
        "        #     sess.run(init)\n",
        "        #     data['Y_' + setname] = sess.run(tf.one_hot(data['Y_' + setname + '_classname'], depth=no_of_classes, axis=-1))\n",
        "        with tf.compat.v1.Session() as sess:\n",
        "            # sess.run(init)\n",
        "            data['Y_' + setname] = sess.run(tf.one_hot(data['Y_' + setname + '_classname'], depth=no_of_classes, axis=-1))\n",
        "\n",
        "        if (verbose):\n",
        "            print(\"Done.\")\n",
        "\n",
        "    return data"
      ],
      "metadata": {
        "id": "UF10OJuR0UV8"
      },
      "execution_count": null,
      "outputs": []
    },
    {
      "cell_type": "code",
      "source": [
        "print(\"Converting training set to one hot\")\n"
      ],
      "metadata": {
        "id": "D_z8UJJk0W9Q",
        "colab": {
          "base_uri": "https://localhost:8080/"
        },
        "outputId": "0f79cf86-9cb5-4f2a-ea83-a8aac40067e6"
      },
      "execution_count": null,
      "outputs": [
        {
          "output_type": "stream",
          "name": "stdout",
          "text": [
            "Converting training set to one hot\n"
          ]
        }
      ]
    },
    {
      "cell_type": "code",
      "source": [
        "data512_train = read_dataset_and_one_hot_labels(export_to + 'aug_dataset512.h5', 'train', verbose=True)"
      ],
      "metadata": {
        "colab": {
          "base_uri": "https://localhost:8080/"
        },
        "id": "nWpxsx8Kp7_L",
        "outputId": "9fb985ac-dee2-4a8d-b896-6683ebedbc5f"
      },
      "execution_count": null,
      "outputs": [
        {
          "output_type": "stream",
          "name": "stdout",
          "text": [
            "Processing class: A\n",
            "0%\n",
            "20%\n",
            "40%\n",
            "60%\n",
            "80%\n",
            "Processing class: B\n",
            "0%\n",
            "20%\n",
            "40%\n",
            "60%\n",
            "80%\n",
            "Processing class: C\n",
            "0%\n",
            "20%\n",
            "40%\n",
            "60%\n",
            "80%\n",
            "Processing class: D\n",
            "0%\n",
            "20%\n",
            "40%\n",
            "60%\n",
            "80%\n",
            "Processing class: E\n",
            "0%\n",
            "20%\n",
            "40%\n",
            "60%\n",
            "80%\n",
            "Converting to one_hot\n",
            "Done.\n"
          ]
        }
      ]
    },
    {
      "cell_type": "code",
      "source": [
        "print(\"Converting dev set to one hot\")\n",
        "data512_dev = read_dataset_and_one_hot_labels(export_to + 'aug_dataset512.h5', 'dev', verbose=True)\n",
        "print(\"Converting test set to one hot\")\n",
        "data512_test = read_dataset_and_one_hot_labels(export_to + 'aug_dataset512.h5', 'test', verbose=True)"
      ],
      "metadata": {
        "colab": {
          "base_uri": "https://localhost:8080/"
        },
        "id": "rN6J7BSyp-mq",
        "outputId": "bde2feb8-d62b-4af1-8742-ede9858472ed"
      },
      "execution_count": null,
      "outputs": [
        {
          "output_type": "stream",
          "name": "stdout",
          "text": [
            "Converting dev set to one hot\n",
            "Processing class: A\n",
            "0%\n",
            "20%\n",
            "40%\n",
            "60%\n",
            "80%\n",
            "Processing class: B\n",
            "0%\n",
            "20%\n",
            "40%\n",
            "60%\n",
            "80%\n",
            "Processing class: C\n",
            "0%\n",
            "20%\n",
            "40%\n",
            "60%\n",
            "80%\n",
            "Processing class: D\n",
            "0%\n",
            "20%\n",
            "40%\n",
            "60%\n",
            "80%\n",
            "Processing class: E\n",
            "0%\n",
            "20%\n",
            "40%\n",
            "60%\n",
            "80%\n",
            "Converting to one_hot\n",
            "Done.\n",
            "Converting test set to one hot\n",
            "Processing class: A\n",
            "0%\n",
            "20%\n",
            "40%\n",
            "60%\n",
            "80%\n",
            "Processing class: B\n",
            "0%\n",
            "20%\n",
            "40%\n",
            "60%\n",
            "80%\n",
            "Processing class: C\n",
            "0%\n",
            "20%\n",
            "40%\n",
            "60%\n",
            "80%\n",
            "Processing class: D\n",
            "0%\n",
            "20%\n",
            "40%\n",
            "60%\n",
            "80%\n",
            "Processing class: E\n",
            "0%\n",
            "20%\n",
            "40%\n",
            "60%\n",
            "80%\n",
            "Converting to one_hot\n",
            "Done.\n"
          ]
        }
      ]
    },
    {
      "cell_type": "code",
      "source": [
        "with h5.File(export_to + 'datafile512.h5', 'w') as datafile512:\n",
        "\n",
        "    datafile512.create_dataset('X_train', data=data512_train['X_train'])\n",
        "    datafile512.create_dataset('Y_train_classname', data=data512_train['Y_train_classname'])\n",
        "    datafile512.create_dataset('Y_train', data=data512_train['Y_train'])\n",
        "    \n",
        "    datafile512.create_dataset('X_dev', data=data512_dev['X_dev'])\n",
        "    datafile512.create_dataset('Y_dev_classname', data=data512_dev['Y_dev_classname'])\n",
        "    datafile512.create_dataset('Y_dev', data=data512_dev['Y_dev'])\n",
        "    \n",
        "    datafile512.create_dataset('X_test', data=data512_test['X_test'])\n",
        "    datafile512.create_dataset('Y_test_classname', data=data512_test['Y_test_classname'])\n",
        "    datafile512.create_dataset('Y_test', data=data512_test['Y_test'])"
      ],
      "metadata": {
        "id": "PiHczMs90W5y"
      },
      "execution_count": null,
      "outputs": []
    },
    {
      "cell_type": "code",
      "source": [
        "print(\"Converting training set to one hot\")\n",
        "data1024_train = read_dataset_and_one_hot_labels(export_to + 'aug_dataset1024.h5', 'train', verbose=True)\n",
        "print(\"Converting dev set to one hot\")\n",
        "data1024_dev = read_dataset_and_one_hot_labels(export_to + 'aug_dataset1024.h5', 'dev', verbose=True)\n",
        "print(\"Converting test set to one hot\")\n",
        "data1024_test = read_dataset_and_one_hot_labels(export_to + 'aug_dataset1024.h5', 'test', verbose=True)"
      ],
      "metadata": {
        "id": "hPNCebm80W3i",
        "colab": {
          "base_uri": "https://localhost:8080/"
        },
        "outputId": "c60b9770-53ae-40bd-8b66-97e16842ea8c"
      },
      "execution_count": null,
      "outputs": [
        {
          "output_type": "stream",
          "name": "stdout",
          "text": [
            "Converting training set to one hot\n",
            "Processing class: A\n",
            "0%\n",
            "20%\n",
            "40%\n",
            "60%\n",
            "80%\n",
            "Processing class: B\n",
            "0%\n",
            "20%\n",
            "40%\n",
            "60%\n",
            "80%\n",
            "Processing class: C\n",
            "0%\n",
            "20%\n",
            "40%\n",
            "60%\n",
            "80%\n",
            "Processing class: D\n",
            "0%\n",
            "20%\n",
            "40%\n",
            "60%\n",
            "80%\n",
            "Processing class: E\n",
            "0%\n",
            "20%\n",
            "40%\n",
            "60%\n",
            "80%\n",
            "Converting to one_hot\n",
            "Done.\n",
            "Converting dev set to one hot\n",
            "Processing class: A\n",
            "0%\n",
            "20%\n",
            "40%\n",
            "60%\n",
            "80%\n",
            "Processing class: B\n",
            "0%\n",
            "20%\n",
            "40%\n",
            "60%\n",
            "80%\n",
            "Processing class: C\n",
            "0%\n",
            "20%\n",
            "40%\n",
            "60%\n",
            "80%\n",
            "Processing class: D\n",
            "0%\n",
            "20%\n",
            "40%\n",
            "60%\n",
            "80%\n",
            "Processing class: E\n",
            "0%\n",
            "20%\n",
            "40%\n",
            "60%\n",
            "80%\n",
            "Converting to one_hot\n",
            "Done.\n",
            "Converting test set to one hot\n",
            "Processing class: A\n",
            "0%\n",
            "20%\n",
            "40%\n",
            "60%\n",
            "80%\n",
            "Processing class: B\n",
            "0%\n",
            "20%\n",
            "40%\n",
            "60%\n",
            "80%\n",
            "Processing class: C\n",
            "0%\n",
            "20%\n",
            "40%\n",
            "60%\n",
            "80%\n",
            "Processing class: D\n",
            "0%\n",
            "20%\n",
            "40%\n",
            "60%\n",
            "80%\n",
            "Processing class: E\n",
            "0%\n",
            "20%\n",
            "40%\n",
            "60%\n",
            "80%\n",
            "Converting to one_hot\n",
            "Done.\n"
          ]
        }
      ]
    },
    {
      "cell_type": "code",
      "source": [
        "with h5.File(export_to + 'datafile1024.h5', 'w') as datafile1024:\n",
        "\n",
        "    datafile1024.create_dataset('X_train', data=data1024_train['X_train'])\n",
        "    datafile1024.create_dataset('Y_train_classname', data=data1024_train['Y_train_classname'])\n",
        "    datafile1024.create_dataset('Y_train', data=data1024_train['Y_train'])\n",
        "    \n",
        "    datafile1024.create_dataset('X_dev', data=data1024_dev['X_dev'])\n",
        "    datafile1024.create_dataset('Y_dev_classname', data=data1024_dev['Y_dev_classname'])\n",
        "    datafile1024.create_dataset('Y_dev', data=data1024_dev['Y_dev'])\n",
        "    \n",
        "    datafile1024.create_dataset('X_test', data=data1024_test['X_test'])\n",
        "    datafile1024.create_dataset('Y_test_classname', data=data1024_test['Y_test_classname'])\n",
        "    datafile1024.create_dataset('Y_test', data=data1024_test['Y_test'])"
      ],
      "metadata": {
        "id": "FUf_5RU20W0j"
      },
      "execution_count": null,
      "outputs": []
    },
    {
      "cell_type": "code",
      "source": [
        "#Test set for voting accuracy\n",
        "def augment_test_example(ex, window_size=512, stride=64):\n",
        "    \"\"\"\n",
        "    Augments one dataset example with sliding window approach\n",
        "    \n",
        "    Used with test dataset to create multiple (typically 3) slices from one example\n",
        "    The majority of the predictions on those 3 slices will be considered\n",
        "    \n",
        "    Parameters:\n",
        "    ex: one example from dataset\n",
        "    window_size: sliding window size\n",
        "    stride: sliding window stride\n",
        "    \n",
        "    Returns:\n",
        "    aug_ex: numpy array containing multiple smaller (augmented) examples\n",
        "    \"\"\"\n",
        "    \n",
        "    total_points = ex.shape[0]\n",
        "    aug_ex = None\n",
        "    \n",
        "    # no. of examples generated from single training example using sliding window\n",
        "    # = floor((total_points - window_size) / stride) + 1\n",
        "    iterations = ((total_points - window_size) // stride) + 1\n",
        "\n",
        "    for i in range(iterations):\n",
        "        \n",
        "        # window slice\n",
        "        window_slice_from = i*stride\n",
        "        window_slice_to = i*stride + window_size\n",
        "\n",
        "        try:\n",
        "            aug_ex = np.append(aug_ex, [ex[window_slice_from:window_slice_to]], axis=0)\n",
        "        except:\n",
        "            aug_ex = np.array([ex[window_slice_from:window_slice_to]])\n",
        "    \n",
        "    return aug_ex"
      ],
      "metadata": {
        "id": "nA2Gvjne0Wx0"
      },
      "execution_count": null,
      "outputs": []
    },
    {
      "cell_type": "code",
      "source": [
        "class_map = { 'A': 0, 'B': 0, 'C': 1, 'D': 1, 'E': 2 }\n",
        "\n",
        "def create_test_set_for_voting(testset, window_size=512, stride=64, divisions=2):\n",
        "    \"\"\"\n",
        "    Augments whole test set in a way where each example contains multiple smaller slices\n",
        "    \n",
        "    The augmented dataset created by this function will be used by accuracy for voting measure\n",
        "    Each example is divided into several divisions\n",
        "    Each division consists of multiple slices (smaller examples)\n",
        "    \n",
        "    Parameters:\n",
        "    testset: dictionary containing test examples for each class\n",
        "    window_size: sliding window size\n",
        "    stride: sliding window stride\n",
        "    divisions: number of different examples to create from one example\n",
        "    \n",
        "    Returns:\n",
        "    (new_test_set_X, new_test_set_Y, new_test_set_Y_onehot): numpy array of slices, labels, one-hot labels\n",
        "    \"\"\"\n",
        "    \n",
        "    new_test_set_X = None\n",
        "    new_test_set_Y = []\n",
        "    new_test_set_Y_onehot = None\n",
        "    \n",
        "    no_of_classes = 3\n",
        "    identity = np.eye(no_of_classes)\n",
        "    \n",
        "    # loop over classes\n",
        "    for c,class_data in testset.items():\n",
        "        \n",
        "        # loop over training examples\n",
        "        for ex in class_data:\n",
        "            \n",
        "            for d in range(divisions):\n",
        "                \n",
        "                division_size = ex.shape[0] // divisions\n",
        "            \n",
        "                aug_ex = augment_test_example(ex[d*division_size:(d+1)*division_size], window_size=window_size, stride=stride)\n",
        "                one_hot = identity[class_map[c]]\n",
        "\n",
        "                try:\n",
        "                    new_test_set_X = np.append(new_test_set_X, [aug_ex], axis=0)\n",
        "                    new_test_set_Y_onehot = np.append(new_test_set_Y_onehot, [one_hot], axis=0)\n",
        "                except:\n",
        "                    new_test_set_X = np.array([aug_ex])\n",
        "                    new_test_set_Y_onehot = np.array([one_hot])\n",
        "                new_test_set_Y = np.append(new_test_set_Y, class_map[c])\n",
        "        \n",
        "    return new_test_set_X, new_test_set_Y, new_test_set_Y_onehot"
      ],
      "metadata": {
        "id": "KSDl__An0USm"
      },
      "execution_count": null,
      "outputs": []
    },
    {
      "cell_type": "code",
      "source": [
        "test_X_v_512, test_Y_v_512, test_Y_oh_v_512 = create_test_set_for_voting(raw_dataset_test, window_size=512, stride=256, divisions=4)"
      ],
      "metadata": {
        "id": "hiUbTorz0UPv"
      },
      "execution_count": null,
      "outputs": []
    },
    {
      "cell_type": "code",
      "source": [
        "test_X_v_1024, test_Y_v_1024, test_Y_oh_v_1024 = create_test_set_for_voting(raw_dataset_test, window_size=1024, stride=512, divisions=2)"
      ],
      "metadata": {
        "id": "v4KTMObq0UNF"
      },
      "execution_count": null,
      "outputs": []
    },
    {
      "cell_type": "code",
      "source": [
        "print(test_X_v_512.shape)\n",
        "print(test_X_v_1024.shape)"
      ],
      "metadata": {
        "id": "wrQI1Ncd0UDN",
        "colab": {
          "base_uri": "https://localhost:8080/"
        },
        "outputId": "39bc1a8c-5a16-4a5b-d951-f487ddf62c06"
      },
      "execution_count": null,
      "outputs": [
        {
          "output_type": "stream",
          "name": "stdout",
          "text": [
            "(100, 3, 512)\n",
            "(50, 3, 1024)\n"
          ]
        }
      ]
    },
    {
      "cell_type": "code",
      "source": [
        "with h5.File(export_to + 'testset_voting_512.h5', 'w') as testset_voting_512:\n",
        "    \n",
        "    testset_voting_512.create_dataset('X', data=test_X_v_512)\n",
        "    testset_voting_512.create_dataset('Y', data=test_Y_v_512)\n",
        "    testset_voting_512.create_dataset('Y_onehot', data=test_Y_oh_v_512)"
      ],
      "metadata": {
        "id": "-JgKk3M603NG"
      },
      "execution_count": null,
      "outputs": []
    },
    {
      "cell_type": "code",
      "source": [
        "with h5.File(export_to + 'testset_voting_1024.h5', 'w') as testset_voting_1024:\n",
        "    \n",
        "    testset_voting_1024.create_dataset('X', data=test_X_v_1024)\n",
        "    testset_voting_1024.create_dataset('Y', data=test_Y_v_1024)\n",
        "    testset_voting_1024.create_dataset('Y_onehot', data=test_Y_oh_v_1024)"
      ],
      "metadata": {
        "id": "eTjRLCra03Jl"
      },
      "execution_count": null,
      "outputs": []
    },
    {
      "cell_type": "code",
      "source": [
        "#Reading data\n",
        "dataset_relative_path = 'random-iter-1/'\n",
        "print(dataset_relative_path)"
      ],
      "metadata": {
        "colab": {
          "base_uri": "https://localhost:8080/"
        },
        "id": "kgw9_M9XDmHm",
        "outputId": "2a09dc3a-9c10-4239-8893-730053339485"
      },
      "execution_count": null,
      "outputs": [
        {
          "output_type": "stream",
          "name": "stdout",
          "text": [
            "random-iter-1/\n"
          ]
        }
      ]
    },
    {
      "cell_type": "code",
      "source": [
        "datafile = dataset_relative_path + 'datafile512.h5'"
      ],
      "metadata": {
        "id": "T6RJX5TZDvFr"
      },
      "execution_count": null,
      "outputs": []
    },
    {
      "cell_type": "code",
      "source": [
        "with h5.File(datafile, 'r') as datafile:\n",
        "    X_train = np.array(datafile['X_train'])\n",
        "    Y_train = np.array(datafile['Y_train'])\n",
        "    \n",
        "    X_dev = np.array(datafile['X_dev'])\n",
        "    Y_dev = np.array(datafile['Y_dev'])\n",
        "    \n",
        "    X_test = np.array(datafile['X_test'])\n",
        "    Y_test = np.array(datafile['Y_test'])"
      ],
      "metadata": {
        "id": "TQc7tYVODmKY"
      },
      "execution_count": null,
      "outputs": []
    },
    {
      "cell_type": "code",
      "source": [
        "def make_dimensions_compatible(arr):\n",
        "    \n",
        "    return arr.reshape(arr.shape[0],-1,1)"
      ],
      "metadata": {
        "id": "095CaB2jDmNG"
      },
      "execution_count": null,
      "outputs": []
    },
    {
      "cell_type": "code",
      "source": [
        "X_train = make_dimensions_compatible(X_train)\n",
        "X_dev = make_dimensions_compatible(X_dev)\n",
        "X_test = make_dimensions_compatible(X_test)"
      ],
      "metadata": {
        "id": "ZaU5ZJlZDmRp"
      },
      "execution_count": null,
      "outputs": []
    },
    {
      "cell_type": "code",
      "source": [
        "print(X_train.shape)\n",
        "print(Y_train.shape)"
      ],
      "metadata": {
        "colab": {
          "base_uri": "https://localhost:8080/"
        },
        "id": "OrnCRbK1EBGk",
        "outputId": "e521a75d-1cd2-4a64-d794-73529261e6e1"
      },
      "execution_count": null,
      "outputs": [
        {
          "output_type": "stream",
          "name": "stdout",
          "text": [
            "(25650, 512, 1)\n",
            "(25650, 3)\n"
          ]
        }
      ]
    },
    {
      "cell_type": "code",
      "source": [
        "#Normalization\n",
        "X_train = X_train / 1000\n",
        "X_dev = X_dev / 1000\n",
        "X_test = X_test / 1000"
      ],
      "metadata": {
        "id": "O5tyvH20EBDQ"
      },
      "execution_count": null,
      "outputs": []
    },
    {
      "cell_type": "code",
      "source": [
        "#Intialization\n",
        "def initialize_parameters(parameter_shapes, parameter_values = {}):\n",
        "    \"\"\"\n",
        "    Initializes weight parameters to build a neural network with tensorflow using Xaviar's initialization.\n",
        "    The parameters are:\n",
        "    parameter_shapes: a dictionary where keys represent tensorflow variable names, and values\n",
        "    are shapes of the parameters in a list format\n",
        "    Returns:\n",
        "    params -- a dictionary of tensors containing parameters\n",
        "    \"\"\"\n",
        "    \n",
        "    params = { }\n",
        "    \n",
        "    for n,s in parameter_shapes.items():\n",
        "        param = tf.compat.v1.get_variable(n, s, initializer = tf.keras.initializers.glorot_normal())\n",
        "        params[n] = param\n",
        "    \n",
        "    for n,v in parameter_values.items():\n",
        "        params[n] = v\n",
        "    \n",
        "    return params"
      ],
      "metadata": {
        "id": "XUmcRizMVI_e"
      },
      "execution_count": null,
      "outputs": []
    },
    {
      "cell_type": "code",
      "source": [
        "#Forward Propagation\n",
        "def forward_propagation_cnn1(X, parameters, training=False):\n",
        "    \"\"\"\n",
        "    Implements the forward propagation for the model:\n",
        "    (CONV BN RELU) -> (CONV BN RELU) -> (CONV BN RELU) -> (FC RELU DROPOUT) -> FC\n",
        "    \n",
        "    Arguments:\n",
        "    X -- input dataset placeholder, of shape (input size, number of examples)\n",
        "    parameters -- python dictionary containing your parameters\n",
        "                  \"CONV1_W\", \"CONV2_W\", \"CONV3_W\", \"FC1_units\", \"DO_prob\", \"output_classes\"\n",
        "                  the shapes are given in initialize_parameters\n",
        "\n",
        "    Returns:\n",
        "    Z3 -- the output of the last LINEAR unit (without softmax)\n",
        "    \"\"\"\n",
        "    \n",
        "    # Retrieve the parameters from the dictionary \"parameters\" \n",
        "    CONV1_W = parameters['CONV1_W']\n",
        "    CONV1_Str = parameters['CONV1_Str']\n",
        "    CONV2_W = parameters['CONV2_W']\n",
        "    CONV2_Str = parameters['CONV2_Str']\n",
        "    CONV3_W = parameters['CONV3_W']\n",
        "    CONV3_Str = parameters['CONV3_Str']\n",
        "    FC1_units = parameters['FC1_units']\n",
        "    DO_prob = parameters['DO_prob']\n",
        "    output_classes = parameters[\"output_classes\"]\n",
        "    \n",
        "    \n",
        "    #Layer 1\n",
        "    # CONV\n",
        "    Z1 = tf.compat.v1.nn.conv1d(X, CONV1_W, stride=CONV1_Str, padding='VALID', data_format='NWC', name='conv1')\n",
        "    # Batch Normalization\n",
        "    B1 = tf.compat.v1.layers.batch_normalization(Z1, is_training=training, updates_collections=None)\n",
        "    # RELU\n",
        "    A1 = tf.nn.relu(B1)\n",
        "    \n",
        "    #Layer 2\n",
        "    # CONV\n",
        "    Z2 = tf.compat.v1.nn.conv1d(A1, CONV2_W, stride=CONV2_Str, padding='VALID', data_format='NWC', name='conv2')\n",
        "    # Batch Normalization\n",
        "    B2 = tf.compat.v1.layers.batch_normalization(Z2, is_training=training, updates_collections=None)\n",
        "    # RELU\n",
        "    A2 = tf.nn.relu(B2)\n",
        "    \n",
        "    #Layer 3\n",
        "    # CONV\n",
        "    Z3 = tf.compat.v1.nn.conv1d(A2, CONV3_W, stride=CONV3_Str, padding='VALID', data_format='NWC', name='conv3')\n",
        "    # Batch Normalization\n",
        "    B3 = tf.compat.v1.layers.batch_normalization(Z3, is_training=training, updates_collections=None)\n",
        "    # RELU\n",
        "    A3 = tf.nn.relu(B3)\n",
        "    \n",
        "    # Flatten activations for FC layer\n",
        "    A3_flat = tf.compat.v1.layers.flatten(A3)\n",
        "    \n",
        "    # Layer 4\n",
        "    # FC\n",
        "    A4 = tf.compat.v1.layers.dense(A3_flat, FC1_units, activation_fn=tf.nn.relu)\n",
        "    # Dropout\n",
        "    A4_dropped = tf.keras.layers.Dropout(A4, keep_prob=DO_prob, is_training=training)\n",
        "    \n",
        "    # Layer 5\n",
        "    # FC\n",
        "    logits = tf.compat.v1.layers.dense(A4_dropped, output_classes, activation_fn=None)\n",
        "    \n",
        "    # Although the cost function we use will have in-built softmax computations,\n",
        "    # for predictions it'll be feasible to have a named tensor\n",
        "    softmax_output = tf.nn.softmax(logits, name='softmax_output')\n",
        "    \n",
        "    return logits, softmax_output"
      ],
      "metadata": {
        "id": "hpDWrDhvEA-e"
      },
      "execution_count": null,
      "outputs": []
    },
    {
      "cell_type": "code",
      "source": [
        "def forward_propagation_cnn3(X, parameters, training=False):\n",
        "    \"\"\"\n",
        "    Implements the forward propagation for the model:\n",
        "    (CONV BN RELU) -> (CONV BN RELU DROPOUT) -> (CONV BN RELU) -> (FC RELU DROPOUT) -> FC\n",
        "    \n",
        "    Arguments:\n",
        "    X -- input dataset placeholder, of shape (input size, number of examples)\n",
        "    parameters -- python dictionary containing your parameters\n",
        "                  \"CONV1_W\", \"CONV2_W\", \"CONV3_W\", \"FC1_units\", \"DO_prob\", \"output_classes\"\n",
        "                  the shapes are given in initialize_parameters\n",
        "\n",
        "    Returns:\n",
        "    Z3 -- the output of the last LINEAR unit (without softmax)\n",
        "    \"\"\"\n",
        "    \n",
        "    # Retrieve the parameters from the dictionary \"parameters\" \n",
        "    CONV1_W = parameters['CONV1_W']\n",
        "    CONV1_Str = parameters['CONV1_Str']\n",
        "    CONV2_W = parameters['CONV2_W']\n",
        "    CONV2_Str = parameters['CONV2_Str']\n",
        "    DO_prob_middle_layer = parameters['DO_prob_middle_layer']\n",
        "    CONV3_W = parameters['CONV3_W']\n",
        "    CONV3_Str = parameters['CONV3_Str']\n",
        "    FC1_units = parameters['FC1_units']\n",
        "    DO_prob = parameters['DO_prob']\n",
        "    output_classes = parameters[\"output_classes\"]\n",
        "    \n",
        "    \n",
        "    #Layer 1\n",
        "    # CONV\n",
        "    Z1 = tf.compat.v1.nn.conv1d(X, CONV1_W, stride=CONV1_Str, padding='VALID', data_format='NWC', name='conv1')\n",
        "    # Batch Normalization\n",
        "    B1 = tf.compat.v1.layers.batch_normalization(Z1, is_training=training, updates_collections=None)\n",
        "    # RELU\n",
        "    A1 = tf.nn.relu(B1)\n",
        "    \n",
        "    #Layer 2\n",
        "    # CONV\n",
        "    Z2 = tf.compat.v1.nn.conv1d(A1, CONV2_W, stride=CONV2_Str, padding='VALID', data_format='NWC', name='conv2')\n",
        "    # Batch Normalization\n",
        "    B2 = tf.compat.v1.layers.batch_normalization(Z2, is_training=training, updates_collections=None)\n",
        "    # RELU\n",
        "    A2 = tf.nn.relu(B2)\n",
        "    # Dropout\n",
        "    A2_dropped = tf.keras.layers.Dropout(A2, keep_prob=DO_prob_middle_layer, is_training=training)\n",
        "    \n",
        "    #Layer 3\n",
        "    # CONV\n",
        "    Z3 = tf.compat.v1.nn.conv1d(A2_dropped, CONV3_W, stride=CONV3_Str, padding='VALID', data_format='NWC', name='conv3')\n",
        "    # Batch Normalization\n",
        "    B3 = tf.compat.v1.layers.batch_normalization(Z3, is_training=training, updates_collections=None)\n",
        "    # RELU\n",
        "    A3 = tf.nn.relu(B3)\n",
        "    \n",
        "    # Flatten activations for FC layer\n",
        "    A3_flat = tf.compat.v1.layers.flatten(A3)\n",
        "    \n",
        "    # Layer 4\n",
        "    # FC\n",
        "    A4 = tf.compat.v1.layers.dense(A3_flat, FC1_units, activation_fn=tf.nn.relu)\n",
        "    # Dropout\n",
        "    A4_dropped = tf.compat.v1.layers.Dropout(A4, keep_prob=DO_prob, is_training=training)\n",
        "    \n",
        "    # Layer 5\n",
        "    # FC\n",
        "    logits = tf.compat.v1.layers.dense(A4_dropped, output_classes, activation_fn=None)\n",
        "    \n",
        "    # Although the cost function we use will have in-built softmax computations,\n",
        "    # for predictions it'll be feasible to have a named tensor\n",
        "    softmax_output = tf.nn.softmax(logits, name='softmax_output')\n",
        "    \n",
        "    return logits, softmax_output"
      ],
      "metadata": {
        "id": "32ZsLieJEA78"
      },
      "execution_count": null,
      "outputs": []
    },
    {
      "cell_type": "code",
      "source": [
        "def forward_propagation_cnn8(X, parameters, training=False):\n",
        "    \"\"\"\n",
        "    Implements the forward propagation for the model:\n",
        "    (CONV BN RELU) -> (CONV BN RELU) -> (FC RELU DROPOUT) -> FC\n",
        "    \n",
        "    Arguments:\n",
        "    X -- input dataset placeholder, of shape (input size, number of examples)\n",
        "    parameters -- python dictionary containing your parameters\n",
        "                  \"CONV1_W\", \"CONV2_W\", \"CONV3_W\", \"FC1_units\", \"DO_prob\", \"output_classes\"\n",
        "                  the shapes are given in initialize_parameters\n",
        "\n",
        "    Returns:\n",
        "    Z3 -- the output of the last LINEAR unit (without softmax)\n",
        "    \"\"\"\n",
        "    \n",
        "    # Retrieve the parameters from the dictionary \"parameters\" \n",
        "    CONV1_W = parameters['CONV1_W']\n",
        "    CONV1_Str = parameters['CONV1_Str']\n",
        "    CONV2_W = parameters['CONV2_W']\n",
        "    CONV2_Str = parameters['CONV2_Str']\n",
        "    DO_prob_middle_layer = parameters['DO_prob_middle_layer']\n",
        "    FC1_units = parameters['FC1_units']\n",
        "    DO_prob = parameters['DO_prob']\n",
        "    output_classes = parameters[\"output_classes\"]\n",
        "    \n",
        "    \n",
        "    #Layer 1\n",
        "    # CONV\n",
        "    Z1 = tf.compat.v1.nn.conv1d(X, CONV1_W, stride=CONV1_Str, padding='VALID', data_format='NWC', name='conv1')\n",
        "    # Batch Normalization\n",
        "    B1 = tf.compat.v1.layers.batch_normalization(Z1,training=training)\n",
        "    # RELU\n",
        "    A1 = tf.nn.relu(B1)\n",
        "    \n",
        "    #Layer 2\n",
        "    # CONV\n",
        "    Z2 = tf.compat.v1.nn.conv1d(A1, CONV2_W, stride=CONV2_Str, padding='VALID', data_format='NWC', name='conv2')\n",
        "    # Batch Normalization\n",
        "    B2 = tf.compat.v1.layers.batch_normalization(Z2, training=training)\n",
        "    # RELU\n",
        "    A2 = tf.nn.relu(B2)\n",
        "    \n",
        "    # Flatten activations for FC layer\n",
        "    A2_flat = tf.compat.v1.layers.flatten(A2)\n",
        "    \n",
        "    # Layer 3\n",
        "    # FC\n",
        "    A3 = tf.compat.v1.layers.dense(A2_flat, FC1_units, activation=tf.nn.relu)\n",
        "    # Dropout\n",
        "    A3_dropped = tf.nn.dropout(A3, keep_prob=DO_prob)\n",
        "    \n",
        "    # Layer 4\n",
        "    # FC\n",
        "    logits = tf.compat.v1.layers.dense(A3_dropped, output_classes, activation=None)\n",
        "    \n",
        "    # Although the cost function we use will have in-built softmax computations,\n",
        "    # for predictions it'll be feasible to have a named tensor\n",
        "    softmax_output = tf.nn.softmax(logits, name='softmax_output')\n",
        "    \n",
        "    return logits, softmax_output"
      ],
      "metadata": {
        "id": "eRg9ORvOEA5k"
      },
      "execution_count": null,
      "outputs": []
    },
    {
      "cell_type": "code",
      "source": [
        "#Computing cost function\n",
        "def compute_cost(X, Y, parameters, nn_key, training):\n",
        "    \n",
        "    \"\"\"\n",
        "    Apply softmax to the output classes and find cross entropy loss\n",
        "    X - Input data\n",
        "    Y - One-hot output class training labels\n",
        "    \n",
        "    Returns:\n",
        "    cost - cross entropy loss\n",
        "    \"\"\"\n",
        "    \n",
        "    # FIXME: setting training=training causes problems during evaluation time\n",
        "    if nn_key == 'cnn1':\n",
        "        logits, Y_hat = forward_propagation_cnn1(X, parameters, training=training)\n",
        "    elif nn_key == 'cnn2':\n",
        "        logits, Y_hat = forward_propagation_cnn1(X, parameters, training=training)\n",
        "    elif nn_key == 'cnn3':\n",
        "        logits, Y_hat = forward_propagation_cnn3(X, parameters, training=training)\n",
        "    elif nn_key == 'cnn4':\n",
        "        logits, Y_hat = forward_propagation_cnn1(X, parameters, training=training)\n",
        "    elif nn_key == 'cnn5':\n",
        "        logits, Y_hat = forward_propagation_cnn8(X, parameters, training=training)\n",
        "    elif nn_key == 'cnn6':\n",
        "        logits, Y_hat = forward_propagation_cnn8(X, parameters, training=training)\n",
        "    elif nn_key == 'cnn7':\n",
        "        logits, Y_hat = forward_propagation_cnn8(X, parameters, training=training)\n",
        "    elif nn_key == 'cnn8':\n",
        "        logits, Y_hat = forward_propagation_cnn8(X, parameters, training=training)\n",
        "    else:\n",
        "        KeyError('Provided nn_key doesn\\'t match with any model')\n",
        "    \n",
        "    cost = tf.compat.v1.reduce_mean(tf.nn.softmax_cross_entropy_with_logits_v2(logits=logits, labels=Y))\n",
        "    \n",
        "    return cost, Y_hat"
      ],
      "metadata": {
        "id": "KWuBanSFEUno"
      },
      "execution_count": null,
      "outputs": []
    },
    {
      "cell_type": "code",
      "source": [
        "#Pre-requisites for training\n",
        "#Create Placeholders\n",
        "def create_placeholders(n_x, n_y):\n",
        "    \"\"\"\n",
        "    Creates Tensorflow placeholders that act for input data and their labels\n",
        "    \n",
        "    Arguments:\n",
        "    n_x - no. of features for X\n",
        "    n_x - no. of classes for Y\n",
        "    \n",
        "    Returns:\n",
        "    X - placeholder for data that contains input featurs,\n",
        "        shape: (no. of examples, no. of features). No. of examples is set to None\n",
        "    Y - placeholder for data that contains output class labels,\n",
        "        shape (no. of examples, no. of classes). No. of examples is set ot None\n",
        "    \"\"\"\n",
        "    tf.compat.v1.disable_eager_execution()\n",
        "    X = tf.compat.v1.placeholder(dtype=tf.float32, name='X', shape=(None, n_x, 1))\n",
        "    Y = tf.compat.v1.placeholder(dtype=tf.float32, name='Y', shape=(None, n_y))\n",
        "    is_train = tf.compat.v1.placeholder(dtype=tf.bool,shape=(), name='is_train')\n",
        "   \n",
        "    return X,Y,is_train"
      ],
      "metadata": {
        "id": "CFHk1SWJEUq1"
      },
      "execution_count": null,
      "outputs": []
    },
    {
      "cell_type": "code",
      "source": [
        "#Parameter shapes\n",
        "def parameter_shapes(nn_key):\n",
        "    \"\"\"\n",
        "    Get tha shapes of all parameters used in the model.\n",
        "    Convolutional layer parameter shapes (filters) are in list format\n",
        "    \n",
        "    Arguments:\n",
        "    nn_key - Provide the key for the neural network model used\n",
        "    could be, 'cnn1', 'cnn2'\n",
        "    \n",
        "    Returns:\n",
        "    param_shapes - dict that contains all the parameters as follows\n",
        "    CONV1_W, CONV2_W, CONV3_W\n",
        "    param_values:\n",
        "    CONV1_Str, CONV2_Str, CONV3_Str,\n",
        "    FC1_units, DO_prob, output_classes\n",
        "    \"\"\"\n",
        "    \n",
        "    param_shapes = {}\n",
        "    param_values = {}\n",
        "    \n",
        "    do_prob = {\n",
        "        'cnn1': 0.5,\n",
        "        'cnn2': 0.3,\n",
        "        'cnn3': 0.3,\n",
        "        'cnn4': 0.9,\n",
        "        'cnn5': 0.5,\n",
        "        'cnn6': 0.7,\n",
        "        'cnn7': 0.3,\n",
        "        'cnn8': 0.3\n",
        "    }\n",
        "    \n",
        "    do_prob_middle_layer = {\n",
        "        'cnn1': 0,   # not used\n",
        "        'cnn2': 0,   # not used\n",
        "        'cnn3': 0.8,\n",
        "        'cnn4': 0,   # not used\n",
        "        'cnn5': 0,   # not used\n",
        "        'cnn6': 0,   # not used\n",
        "        'cnn7': 0,   # not used\n",
        "        'cnn8': 0    # not used\n",
        "    }\n",
        "    \n",
        "    fc1_units = {\n",
        "        'cnn1': 20,\n",
        "        'cnn2': 15,\n",
        "        'cnn3': 15,\n",
        "        'cnn4': 15,\n",
        "        'cnn5': 20,\n",
        "        'cnn6': 15,\n",
        "        'cnn7': 15,\n",
        "        'cnn8': 10\n",
        "    }\n",
        "\n",
        "    # Conv Layer 1 parameter shapes\n",
        "    # No. of channels: 24, Filter size: 5, Stride: 3\n",
        "    param_shapes['CONV1_W'] = [5, 1, 24]\n",
        "    param_values['CONV1_Str'] = 3\n",
        "    \n",
        "    # Conv Layer 2 parameter shapes\n",
        "    # No. of channels: 16, Filter size: 3, Stride: 2\n",
        "    param_shapes['CONV2_W'] = [3, 24, 16]\n",
        "    param_values['CONV2_Str'] = 2\n",
        "    \n",
        "    # Dropout after the convolutional layer 2\n",
        "    # Not used in some cases\n",
        "    param_values['DO_prob_middle_layer'] = do_prob_middle_layer[nn_key]\n",
        "    \n",
        "    # Conv Layer 3 parameter shapes\n",
        "    # No. of channels: 8, Filter size: 3, Stride: 2\n",
        "    param_shapes['CONV3_W'] = [3, 16, 8]\n",
        "    param_values['CONV3_Str'] = 2\n",
        "    \n",
        "    # Fully connected layer 1 units = 20\n",
        "    param_values['FC1_units'] = fc1_units[nn_key]\n",
        "    \n",
        "    # Dropout layer after fully connected layer 1 probability\n",
        "    param_values['DO_prob'] = do_prob[nn_key]\n",
        "    \n",
        "    # Fully connected layer 2 units (also last layer)\n",
        "    # No. of units = no. of output classes = 3\n",
        "    param_values['output_classes'] = 3\n",
        "    \n",
        "    return param_shapes, param_values"
      ],
      "metadata": {
        "id": "SkdCudZlEU2P"
      },
      "execution_count": null,
      "outputs": []
    },
    {
      "cell_type": "code",
      "source": [
        "#Random mini-batches\n",
        "def random_mini_batches(X, Y, mini_batch_size = 64):\n",
        "    \"\"\"\n",
        "    Creates a list of random minibatches from (X, Y)\n",
        "    \n",
        "    Arguments:\n",
        "    X -- input data, of shape (number of examples, window size) (m, n_x)\n",
        "    Y -- output classes, of shape (number of examples, output classes) (m, n_y)\n",
        "    mini_batch_size - size of the mini-batches, integer\n",
        "    Returns:\n",
        "    mini_batches -- list of synchronous (mini_batch_X, mini_batch_Y)\n",
        "    \"\"\"\n",
        "    \n",
        "    m = X.shape[0]                  # number of training examples\n",
        "    mini_batches = []\n",
        "    \n",
        "    # Step 1: Shuffle (X, Y)\n",
        "    permutation = list(np.random.permutation(m))\n",
        "    shuffled_X = X[permutation,:,:]\n",
        "    shuffled_Y = Y[permutation,:]\n",
        "\n",
        "    # Step 2: Partition (shuffled_X, shuffled_Y). Minus the end case.\n",
        "    num_complete_minibatches = np.floor(m/mini_batch_size).astype(int) # number of mini batches of size mini_batch_size in your partitionning\n",
        "    for k in range(0, num_complete_minibatches):\n",
        "        mini_batch_X = shuffled_X[k * mini_batch_size : k * mini_batch_size + mini_batch_size,:,:]\n",
        "        mini_batch_Y = shuffled_Y[k * mini_batch_size : k * mini_batch_size + mini_batch_size,:]\n",
        "        mini_batch = (mini_batch_X, mini_batch_Y)\n",
        "        mini_batches.append(mini_batch)\n",
        "    \n",
        "    # Handling the end case (last mini-batch < mini_batch_size)\n",
        "    if m % mini_batch_size != 0:\n",
        "        mini_batch_X = shuffled_X[num_complete_minibatches * mini_batch_size : m,:,:]\n",
        "        mini_batch_Y = shuffled_Y[num_complete_minibatches * mini_batch_size : m,:]\n",
        "        mini_batch = (mini_batch_X, mini_batch_Y)\n",
        "        mini_batches.append(mini_batch)\n",
        "    \n",
        "    return mini_batches"
      ],
      "metadata": {
        "id": "2Ac3z1RAEeXX"
      },
      "execution_count": null,
      "outputs": []
    },
    {
      "cell_type": "code",
      "source": [
        "#Plotting costs\n",
        "def plot_costs(costs, dev_costs, learning_rate, total_epochs):\n",
        "    # plot the cost\n",
        "    plt.plot(costs, color='blue', label='training')\n",
        "    plt.plot(dev_costs, color='green', label='dev')\n",
        "    plt.ylabel('cost')\n",
        "    plt.xlabel('iterations')\n",
        "    plt.title(\"Learning rate = %f\\nTotal Epochs = %i\" % (learning_rate, total_epochs))\n",
        "    plt.legend()\n",
        "    plt.show()"
      ],
      "metadata": {
        "id": "ciiRoDUJEeTz"
      },
      "execution_count": null,
      "outputs": []
    },
    {
      "cell_type": "code",
      "source": [
        "#Training data\n",
        "\n",
        "def model(X_train, Y_train, X_dev, Y_dev,\n",
        "          learning_rate = 0.009, num_epochs = 100, minibatch_size = 64, print_cost = True,\n",
        "          save_session_path=None, model_file=None, restore_session=False, save_session_interval=5, max_to_keep=10,\n",
        "          nn_key='cnn1'):\n",
        "    \"\"\"\n",
        "    \n",
        "    Arguments:\n",
        "    X_train -- training set, of shape (None, 64, 64, 3)\n",
        "    Y_train -- test set, of shape (None, n_y = 6)\n",
        "    X_test -- training set, of shape (None, 64, 64, 3)\n",
        "    Y_test -- test set, of shape (None, n_y = 6)\n",
        "    learning_rate -- learning rate of the optimization\n",
        "    num_epochs -- number of epochs of the optimization loop\n",
        "    minibatch_size -- size of a minibatch\n",
        "    print_cost -- True to print the cost every 100 epochs\n",
        "    restore_session -- load previously trained model whose path is derived from save_session_path and model_file\n",
        "    max_to_keep -- no. of models to be saved\n",
        "    nn_key -- can be one of cnn1, cnn2, cnn3 ... cnn8 (or the keys described in the literature)\n",
        "    \n",
        "    Returns:\n",
        "    train_accuracy -- real number, accuracy on the train set (X_train)\n",
        "    test_accuracy -- real number, testing accuracy on the test set (X_test)\n",
        "    parameters -- parameters learnt by the model. They can then be used to predict.\n",
        "    \"\"\"\n",
        "    # tf.compat.v1.InteractiveSession()\n",
        "    tf.compat.v1.reset_default_graph()                         # to be able to rerun the model without overwriting tf variables\n",
        "    (m, n_x,_) = X_train.shape             \n",
        "    n_y = Y_train.shape[1]                            \n",
        "    costs = []                                        # To keep track of the cost\n",
        "    dev_costs = []\n",
        "    \n",
        "    model_path = None\n",
        "    if (save_session_path != None and model_file != None):\n",
        "        model_path = save_session_path + model_file\n",
        "    \n",
        "    \n",
        "    # Create Placeholders of the correct shape\n",
        "    X, Y, is_train = create_placeholders(n_x, n_y)\n",
        "\n",
        "    # Initialize parameters\n",
        "    param_shapes, param_values = parameter_shapes(nn_key)\n",
        "    parameters = initialize_parameters(param_shapes, param_values)\n",
        "    \n",
        "    # Forward propagation: Build the forward propagation in the tensorflow graph\n",
        "    # Prediction: Use Y_hat to compute the output class during prediction\n",
        "    cost, Y_hat = compute_cost(X, Y, parameters, nn_key, is_train)\n",
        "    \n",
        "    # Backpropagation: Define the tensorflow optimizer. Use an AdamOptimizer that minimizes the cost.\n",
        "    optimizer = tf.compat.v1.train.AdamOptimizer(learning_rate=learning_rate).minimize(cost)\n",
        "    # optimizer = tf.train.RMSPropOptimizer(learning_rate=learning_rate).minimize(cost)\n",
        "    \n",
        "    # For saving / restoring sesison when training for long\n",
        "    epoch_counter = tf.compat.v1.get_variable('epoch_counter', shape=[], initializer=tf.compat.v1.keras.initializers.Zeros)\n",
        "    counter_op = tf.compat.v1.assign_add(epoch_counter, 1)\n",
        "    saver = tf.compat.v1.train.Saver(max_to_keep=max_to_keep)\n",
        "    \n",
        "    # Calculate the correct predictions\n",
        "    predict_op = tf.compat.v1.argmax(Y_hat, 1)\n",
        "    correct_prediction = tf.equal(predict_op, tf.compat.v1.argmax(Y, 1))\n",
        "\n",
        "    # Calculate accuracy on the test set\n",
        "    accuracy = tf.compat.v1.reduce_mean(tf.cast(correct_prediction, \"float\"))\n",
        "    \n",
        "    # For impementation of batch norm the tf.GraphKeys.UPDATE_OPS dependency needs to be added\n",
        "    # see documentation on tf.contrib.layers.batch_norm\n",
        "#     update_ops = tf.get_collection(tf.GraphKeys.UPDATE_OPS)\n",
        "    \n",
        "    # Initialize all the variables globally\n",
        "    init = tf.compat.v1.global_variables_initializer()\n",
        "     \n",
        "    # Start the session to compute the tensorflow graph\n",
        "    with tf.compat.v1.Session() as sess: #, tf.control_dependencies(update_ops):        \n",
        "        if (restore_session == False and path.exists(save_session_path)):\n",
        "            raise FileExistsError('Session already exists, either restore the session, or manually delete the files.')\n",
        "        \n",
        "        # restore the previous session if the path already exists\n",
        "        if (model_path != None and restore_session==True):\n",
        "            print(\"Restoring session...\\n\")\n",
        "            saver.restore(sess, model_path)\n",
        "            print(\"Previous epoch counter: %i\\n\\n\" % epoch_counter.eval())\n",
        "        else:\n",
        "            sess.run(init)\n",
        "        \n",
        "        tf.compat.v1.train.export_meta_graph(model_path + '.meta') # save the model file (.meta) only once\n",
        "        \n",
        "        print(\"Cost at start: %f\" % cost.eval({X: X_train, Y: Y_train, is_train: False}))\n",
        "        print(\"Dev cost: %f\" % cost.eval({X: X_dev, Y: Y_dev, is_train: False}))\n",
        "        \n",
        "        train_accuracy = accuracy.eval({X: X_train, Y: Y_train, is_train: False})\n",
        "        dev_accuracy = accuracy.eval({X: X_dev, Y: Y_dev, is_train: False})\n",
        "        print(\"Train Accuracy:\", train_accuracy)\n",
        "        print(\"Dev Accuracy:\", dev_accuracy)\n",
        "        \n",
        "        # Do the training loop\n",
        "        for epoch in range(num_epochs):\n",
        "\n",
        "            epoch_cost = 0.\n",
        "            num_minibatches = int(m / minibatch_size) # number of minibatches of size minibatch_size in the train set\n",
        "            minibatches = random_mini_batches(X_train, Y_train, minibatch_size)\n",
        "\n",
        "            for minibatch in minibatches:\n",
        "                \n",
        "                try:\n",
        "\n",
        "                    # Select a minibatch\n",
        "                    (minibatch_X, minibatch_Y) = minibatch\n",
        "\n",
        "                    # IMPORTANT: The line that runs the graph on a minibatch.\n",
        "                    # Run the session to execute the optimizer and the cost, the feedict should contain a minibatch for (X,Y).\n",
        "                    _,minibatch_cost = sess.run([optimizer, cost], feed_dict={X: minibatch_X, Y: minibatch_Y, is_train: True})\n",
        "\n",
        "                    epoch_cost += minibatch_cost / num_minibatches\n",
        "                \n",
        "                # Implement early stopping mechanism on KeyboardInterrupt\n",
        "                except KeyboardInterrupt:\n",
        "                    print(\"KeyboardInterrupt received. Stopping early\")\n",
        "                    plot_costs(np.squeeze(costs), np.squeeze(dev_costs), learning_rate, epoch_counter.eval())\n",
        "                    return parameters\n",
        "                \n",
        "            \n",
        "            if (epoch % save_session_interval == 0 and save_session_path != None):\n",
        "                saver.save(sess, model_path, write_meta_graph=False)\n",
        "            \n",
        "            # Save the costs after each epoch for plotting learning curve\n",
        "            if print_cost == True and epoch % 1 == 0:\n",
        "                costs.append(epoch_cost)\n",
        "                dev_cost = cost.eval({X: X_dev, Y: Y_dev, is_train: False})\n",
        "                dev_costs.append(dev_cost)\n",
        "                \n",
        "                \n",
        "            # Print the cost every epoch\n",
        "            if print_cost == True and (epoch + 1) % 5 == 0:\n",
        "                print (\"\\nCost after epoch %i: %f\" % (epoch + 1, epoch_cost))\n",
        "                print (\"Dev cost after epoch %i: %f\" % (epoch + 1, dev_cost))\n",
        "                \n",
        "                train_accuracy = accuracy.eval({X: X_train, Y: Y_train, is_train: False})\n",
        "                dev_accuracy = accuracy.eval({X: X_dev, Y: Y_dev, is_train: False})\n",
        "                print(\"Train Accuracy:\", train_accuracy)\n",
        "                print(\"Dev Accuracy:\", dev_accuracy)\n",
        "            \n",
        "            # increment the epoch_counter in case the session is saved\n",
        "            # and restored later\n",
        "            sess.run(counter_op)\n",
        "                \n",
        "                \n",
        "        if (save_session_path != None):\n",
        "            saver.save(sess, model_path, write_meta_graph=False)\n",
        "        \n",
        "        \n",
        "        plot_costs(np.squeeze(costs), np.squeeze(dev_costs), learning_rate, epoch_counter.eval())\n",
        "\n",
        "        # Calculate the correct predictions\n",
        "        train_accuracy = accuracy.eval({X: X_train, Y: Y_train, is_train: False})\n",
        "        dev_accuracy = accuracy.eval({X: X_dev, Y: Y_dev, is_train: False})\n",
        "        print(\"Train Accuracy:\", train_accuracy)\n",
        "        print(\"Dev Accuracy:\", dev_accuracy)\n",
        "                \n",
        "        return parameters"
      ],
      "metadata": {
        "id": "Z_Ci9KLiEeRa"
      },
      "execution_count": null,
      "outputs": []
    },
    {
      "cell_type": "code",
      "source": [
        "parameters = model(X_train, Y_train, X_dev, Y_dev,\n",
        "                   learning_rate=0.00002,\n",
        "                   num_epochs=100,\n",
        "                   minibatch_size=128,\n",
        "                   save_session_path='train/dataset-512-1/cnn8_lr-0.00002_mbs-128/',\n",
        "                   model_file='model',\n",
        "                   restore_session=False,\n",
        "                   save_session_interval=10,\n",
        "                   nn_key='cnn8')"
      ],
      "metadata": {
        "colab": {
          "base_uri": "https://localhost:8080/",
          "height": 1000
        },
        "id": "YQxqkYvgEeO3",
        "outputId": "e6bd4b12-b5ec-4af3-a3e8-295e7572b3e0"
      },
      "execution_count": null,
      "outputs": [
        {
          "output_type": "stream",
          "name": "stdout",
          "text": [
            "WARNING:tensorflow:From /usr/local/lib/python3.7/dist-packages/keras/layers/normalization/batch_normalization.py:532: _colocate_with (from tensorflow.python.framework.ops) is deprecated and will be removed in a future version.\n",
            "Instructions for updating:\n",
            "Colocations handled automatically by placer.\n"
          ]
        },
        {
          "output_type": "stream",
          "name": "stderr",
          "text": [
            "/usr/local/lib/python3.7/dist-packages/ipykernel_launcher.py:31: UserWarning: `tf.layers.batch_normalization` is deprecated and will be removed in a future version. Please use `tf.keras.layers.BatchNormalization` instead. In particular, `tf.control_dependencies(tf.GraphKeys.UPDATE_OPS)` should not be used (consult the `tf.keras.layers.BatchNormalization` documentation).\n",
            "/usr/local/lib/python3.7/dist-packages/keras/legacy_tf_layers/normalization.py:463: UserWarning: `layer.apply` is deprecated and will be removed in a future version. Please use `layer.__call__` method instead.\n",
            "  return layer.apply(inputs, training=training)\n",
            "/usr/local/lib/python3.7/dist-packages/ipykernel_launcher.py:39: UserWarning: `tf.layers.batch_normalization` is deprecated and will be removed in a future version. Please use `tf.keras.layers.BatchNormalization` instead. In particular, `tf.control_dependencies(tf.GraphKeys.UPDATE_OPS)` should not be used (consult the `tf.keras.layers.BatchNormalization` documentation).\n"
          ]
        },
        {
          "output_type": "stream",
          "name": "stdout",
          "text": [
            "WARNING:tensorflow:From /usr/local/lib/python3.7/dist-packages/tensorflow/python/util/dispatch.py:1082: calling dropout (from tensorflow.python.ops.nn_ops) with keep_prob is deprecated and will be removed in a future version.\n",
            "Instructions for updating:\n",
            "Please use `rate` instead of `keep_prob`. Rate should be set to `rate = 1 - keep_prob`.\n"
          ]
        },
        {
          "output_type": "stream",
          "name": "stderr",
          "text": [
            "/usr/local/lib/python3.7/dist-packages/ipykernel_launcher.py:44: UserWarning: `tf.layers.flatten` is deprecated and will be removed in a future version. Please use `tf.keras.layers.Flatten` instead.\n",
            "/usr/local/lib/python3.7/dist-packages/keras/legacy_tf_layers/core.py:541: UserWarning: `layer.apply` is deprecated and will be removed in a future version. Please use `layer.__call__` method instead.\n",
            "  return layer.apply(inputs)\n",
            "/usr/local/lib/python3.7/dist-packages/ipykernel_launcher.py:48: UserWarning: `tf.layers.dense` is deprecated and will be removed in a future version. Please use `tf.keras.layers.Dense` instead.\n",
            "/usr/local/lib/python3.7/dist-packages/keras/legacy_tf_layers/core.py:261: UserWarning: `layer.apply` is deprecated and will be removed in a future version. Please use `layer.__call__` method instead.\n",
            "  return layer.apply(inputs)\n",
            "/usr/local/lib/python3.7/dist-packages/ipykernel_launcher.py:54: UserWarning: `tf.layers.dense` is deprecated and will be removed in a future version. Please use `tf.keras.layers.Dense` instead.\n"
          ]
        },
        {
          "output_type": "stream",
          "name": "stdout",
          "text": [
            "Cost at start: 1.098207\n",
            "Dev cost: 1.094568\n",
            "Train Accuracy: 0.34101364\n",
            "Dev Accuracy: 0.296\n",
            "\n",
            "Cost after epoch 5: 1.002196\n",
            "Dev cost after epoch 5: 1.079163\n",
            "Train Accuracy: 0.48526317\n",
            "Dev Accuracy: 0.464\n",
            "\n",
            "Cost after epoch 10: 0.895682\n",
            "Dev cost after epoch 10: 1.070030\n",
            "Train Accuracy: 0.49929824\n",
            "Dev Accuracy: 0.46933332\n",
            "\n",
            "Cost after epoch 15: 0.806423\n",
            "Dev cost after epoch 15: 1.059288\n",
            "Train Accuracy: 0.49220273\n",
            "Dev Accuracy: 0.49066666\n",
            "\n",
            "Cost after epoch 20: 0.754701\n",
            "Dev cost after epoch 20: 1.052921\n",
            "Train Accuracy: 0.48635477\n",
            "Dev Accuracy: 0.488\n",
            "\n",
            "Cost after epoch 25: 0.695356\n",
            "Dev cost after epoch 25: 1.052154\n",
            "Train Accuracy: 0.48311892\n",
            "Dev Accuracy: 0.46666667\n",
            "\n",
            "Cost after epoch 30: 0.669440\n",
            "Dev cost after epoch 30: 1.044256\n",
            "Train Accuracy: 0.47524366\n",
            "Dev Accuracy: 0.48533332\n",
            "\n",
            "Cost after epoch 35: 0.652592\n",
            "Dev cost after epoch 35: 1.040316\n",
            "Train Accuracy: 0.4731384\n",
            "Dev Accuracy: 0.48266667\n",
            "\n",
            "Cost after epoch 40: 0.644645\n",
            "Dev cost after epoch 40: 1.038120\n",
            "Train Accuracy: 0.462846\n",
            "Dev Accuracy: 0.496\n",
            "\n",
            "Cost after epoch 45: 0.623674\n",
            "Dev cost after epoch 45: 1.034945\n",
            "Train Accuracy: 0.462885\n",
            "Dev Accuracy: 0.49066666\n",
            "\n",
            "Cost after epoch 50: 0.618442\n",
            "Dev cost after epoch 50: 1.038881\n",
            "Train Accuracy: 0.45641327\n",
            "Dev Accuracy: 0.46933332\n",
            "\n",
            "Cost after epoch 55: 0.609542\n",
            "Dev cost after epoch 55: 1.035169\n",
            "Train Accuracy: 0.45169592\n",
            "Dev Accuracy: 0.45866665\n",
            "\n",
            "Cost after epoch 60: 0.602780\n",
            "Dev cost after epoch 60: 1.039075\n",
            "Train Accuracy: 0.4488109\n",
            "Dev Accuracy: 0.40266666\n",
            "\n",
            "Cost after epoch 65: 0.598983\n",
            "Dev cost after epoch 65: 1.038570\n",
            "Train Accuracy: 0.44382066\n",
            "Dev Accuracy: 0.45866665\n",
            "\n",
            "Cost after epoch 70: 0.588789\n",
            "Dev cost after epoch 70: 1.041264\n",
            "Train Accuracy: 0.44382066\n",
            "Dev Accuracy: 0.48\n",
            "\n",
            "Cost after epoch 75: 0.583318\n",
            "Dev cost after epoch 75: 1.028521\n",
            "Train Accuracy: 0.44405457\n",
            "Dev Accuracy: 0.44266668\n",
            "\n",
            "Cost after epoch 80: 0.579458\n",
            "Dev cost after epoch 80: 1.037463\n",
            "Train Accuracy: 0.44120857\n",
            "Dev Accuracy: 0.46666667\n",
            "\n",
            "Cost after epoch 85: 0.576562\n",
            "Dev cost after epoch 85: 1.032319\n",
            "Train Accuracy: 0.43567252\n",
            "Dev Accuracy: 0.448\n",
            "\n",
            "Cost after epoch 90: 0.575832\n",
            "Dev cost after epoch 90: 1.038155\n",
            "Train Accuracy: 0.4351657\n",
            "Dev Accuracy: 0.45333335\n",
            "\n",
            "Cost after epoch 95: 0.570511\n",
            "Dev cost after epoch 95: 1.011848\n",
            "Train Accuracy: 0.4348148\n",
            "Dev Accuracy: 0.432\n",
            "\n",
            "Cost after epoch 100: 0.557830\n",
            "Dev cost after epoch 100: 1.030675\n",
            "Train Accuracy: 0.4283041\n",
            "Dev Accuracy: 0.432\n"
          ]
        },
        {
          "output_type": "display_data",
          "data": {
            "text/plain": [
              "<Figure size 432x288 with 1 Axes>"
            ],
            "image/png": "[encoded data removed]"
          },
          "metadata": {
            "needs_background": "light"
          }
        },
        {
          "output_type": "stream",
          "name": "stdout",
          "text": [
            "Train Accuracy: 0.4311111\n",
            "Dev Accuracy: 0.42666668\n"
          ]
        }
      ]
    },
    {
      "cell_type": "code",
      "source": [
        "#Prediction and restoring saved model\n",
        "def predict(X_test, session_path, model_file, Y_test_onehot=None):\n",
        "\n",
        "    tf.compat.v1.reset_default_graph()\n",
        "\n",
        "    checkpoint_path = session_path\n",
        "    model_path = session_path + model_file\n",
        "\n",
        "    with tf.compat.v1.Session() as sess:\n",
        "        loader = tf.train.import_meta_graph(model_path)\n",
        "        loader.restore(sess, tf.train.latest_checkpoint(checkpoint_path))\n",
        "\n",
        "        graph = tf.get_default_graph()\n",
        "\n",
        "        X = graph.get_tensor_by_name('X:0')\n",
        "        Y = graph.get_tensor_by_name('Y:0')\n",
        "        is_train = graph.get_tensor_by_name('is_train:0')\n",
        "        \n",
        "        epoch_counter = graph.get_tensor_by_name('epoch_counter:0')\n",
        "        print(epoch_counter.eval())\n",
        "\n",
        "        Y_hat = graph.get_tensor_by_name('softmax_output:0')\n",
        "\n",
        "        predict_op = tf.argmax(Y_hat, 1)\n",
        "\n",
        "        y_hat_test = predict_op.eval({X: X_test, is_train: False})\n",
        "        \n",
        "        # print the accuracy of the test set if the labels are provided\n",
        "        if (Y_test_onehot is not None):\n",
        "            y_test = np.argmax(Y_test_onehot, 1)\n",
        "            print('Accuracy: %f' % (y_hat_test == y_test).mean())\n",
        "        \n",
        "\n",
        "    return y_hat_test"
      ],
      "metadata": {
        "id": "NpiI40QIEeM1"
      },
      "execution_count": null,
      "outputs": []
    },
    {
      "cell_type": "code",
      "source": [
        "def predict_voting(X_test_voting, session_path, model_file):\n",
        "\n",
        "    tf.reset_default_graph()\n",
        "\n",
        "    checkpoint_path = session_path\n",
        "    model_path = session_path + model_file\n",
        "    \n",
        "    y_hat_test_voting = []\n",
        "\n",
        "    with tf.Session() as sess:\n",
        "        loader = tf.train.import_meta_graph(model_path)\n",
        "        loader.restore(sess, tf.train.latest_checkpoint(checkpoint_path))\n",
        "\n",
        "        graph = tf.get_default_graph()\n",
        "\n",
        "        X = graph.get_tensor_by_name('X:0')\n",
        "        is_train = graph.get_tensor_by_name('is_train:0')\n",
        "\n",
        "        Y_hat = graph.get_tensor_by_name('softmax_output:0')\n",
        "\n",
        "        predict_op = tf.argmax(Y_hat, 1)\n",
        "        \n",
        "        classname, idx, counts = tf.unique_with_counts(predict_op)\n",
        "        predict_voting_op = tf.gather(classname, tf.argmax(counts))\n",
        "\n",
        "        # no. of training examples with the original feature size\n",
        "        m = X_test_voting.shape[0]\n",
        "        \n",
        "        # no. of split training examples of each original example\n",
        "        m_each = X_test_voting.shape[1]\n",
        "        \n",
        "        for ex in range(m):\n",
        "            x_test_voting = make_dimensions_compatible(X_test_voting[ex])\n",
        "            pred = predict_voting_op.eval({X: x_test_voting, is_train: False})\n",
        "            \n",
        "            y_hat_test_voting.append(pred)\n",
        "\n",
        "    return y_hat_test_voting"
      ],
      "metadata": {
        "id": "2xq2xJdyEU4j"
      },
      "execution_count": null,
      "outputs": []
    },
    {
      "cell_type": "code",
      "source": [
        "predictions = predict(X_dev, 'train/dataset-512-1/cnn8_lr-0.00002_mbs-128/', 'model.meta', Y_test_onehot=Y_dev)\n",
        "\n",
        "print(\"\\nPredicted values:\")\n",
        "print(predictions)\n",
        "\n",
        "print(\"\\nActual values:\")\n",
        "print(np.argmax(Y_test, 1))"
      ],
      "metadata": {
        "colab": {
          "base_uri": "https://localhost:8080/"
        },
        "id": "awHL4xj0EU8A",
        "outputId": "c23bba08-872c-46fa-c637-0895d380e261"
      },
      "execution_count": null,
      "outputs": [
        {
          "output_type": "stream",
          "name": "stdout",
          "text": [
            "INFO:tensorflow:Restoring parameters from train/dataset-512-1/cnn8_lr-0.00002_mbs-128/model\n",
            "[( 88,) ( 21,) (150,) (186,) ( 17,) ( 86,) (  0,) (  0,) (200,) (196,)\n",
            " ( 76,) (153,) ( 17,) ( 86,) (  0,) (  0,) (  8,) (170,) (111,) ( 46,)\n",
            " ( 18,) ( 86,) (  0,) (  0,) (229,) (121,) (  9,) (254,) ( 34,) ( 81,)\n",
            " ( 60,) (242,) (  8,) ( 19,) (102,) (162,) ( 17,) ( 86,) (  0,) (  0,)\n",
            " ( 32,) (  1,) (125,) ( 46,) ( 18,) ( 86,) (  0,) (  0,) ( 64,) (  1,)\n",
            " (125,) ( 46,) ( 18,) ( 86,) (  0,) (  0,) ( 64,) (  1,) (125,) ( 46,)\n",
            " ( 18,) ( 86,) (  0,) (  0,) (  0,) (190,) (242,) (187,) ( 68,) (127,)\n",
            " (  0,) (  0,) ( 48,) ( 25,) (151,) ( 60,) (254,) (127,) (  0,) (  0,)\n",
            " ( 80,) ( 29,) (151,) ( 60,) (254,) (127,) (  0,) (  0,) (  0,) (  0,)\n",
            " (  0,) (  0,) (  0,) (  0,) (  0,) (  0,)]\n",
            "Accuracy: 0.493333\n",
            "\n",
            "Predicted values:\n",
            "[1 0 0 0 0 0 0 0 0 0 0 0 0 0 0 0 0 0 0 0 0 1 0 0 0 0 0 0 0 0 0 0 0 0 0 0 0\n",
            " 0 0 0 0 0 0 0 0 1 0 0 0 0 0 1 0 0 1 0 0 0 0 0 0 0 0 0 0 0 1 0 0 0 0 0 0 0\n",
            " 0 0 0 0 0 0 0 0 1 0 1 0 0 0 0 0 0 0 0 0 0 0 0 0 1 0 0 0 1 0 0 0 1 0 0 0 0\n",
            " 0 1 0 0 0 0 0 0 0 0 0 0 0 0 1 0 0 0 0 0 0 0 0 0 1 0 0 0 1 0 0 0 0 0 0 0 0\n",
            " 0 0 0 0 0 0 0 0 0 0 0 0 0 1 1 0 0 0 0 1 0 0 0 1 0 1 0 0 0 0 1 0 0 0 0 0 0\n",
            " 0 0 1 0 0 0 0 0 0 0 0 0 1 0 0 0 0 0 0 0 1 0 0 0 0 0 0 0 0 0 1 1 0 0 0 0 0\n",
            " 0 0 0 0 0 0 1 0 0 0 0 0 0 0 0 0 0 0 0 0 0 0 0 1 0 0 0 0 1 1 1 1 1 1 0 1 0\n",
            " 0 0 0 0 0 0 0 1 0 0 1 1 0 0 0 1 0 0 1 1 1 1 1 1 2 1 0 0 1 0 0 0 0 0 1 0 1\n",
            " 0 0 0 0 0 0 0 1 1 1 1 0 0 0 0 0 0 0 0 1 0 1 1 0 1 1 2 1 0 1 1 0 1 2 2 2 2\n",
            " 0 2 1 2 0 0 1 2 2 2 2 1 2 1 2 0 1 1 2 1 0 1 0 2 2 0 1 0 0 0 1 0 1 1 0 0 0\n",
            " 0 0 1 0 0]\n",
            "\n",
            "Actual values:\n",
            "[0 0 0 0 0 0 0 0 0 0 0 0 0 0 0 0 0 0 0 0 0 0 0 0 0 0 0 0 0 0 0 0 0 0 0 0 0\n",
            " 0 0 0 0 0 0 0 0 0 0 0 0 0 0 0 0 0 0 0 0 0 0 0 0 0 0 0 0 0 0 0 0 0 0 0 0 0\n",
            " 0 0 0 0 0 0 0 0 0 0 0 0 0 0 0 0 0 0 0 0 0 0 0 0 0 0 0 0 0 0 0 0 0 0 0 0 0\n",
            " 0 0 0 0 0 0 0 0 0 0 0 0 0 0 0 0 0 0 0 0 0 0 0 0 0 0 0 0 0 0 0 0 0 0 0 0 0\n",
            " 0 0 1 1 1 1 1 1 1 1 1 1 1 1 1 1 1 1 1 1 1 1 1 1 1 1 1 1 1 1 1 1 1 1 1 1 1\n",
            " 1 1 1 1 1 1 1 1 1 1 1 1 1 1 1 1 1 1 1 1 1 1 1 1 1 1 1 1 1 1 1 1 1 1 1 1 1\n",
            " 1 1 1 1 1 1 1 1 1 1 1 1 1 1 1 1 1 1 1 1 1 1 1 1 1 1 1 1 1 1 1 1 1 1 1 1 1\n",
            " 1 1 1 1 1 1 1 1 1 1 1 1 1 1 1 1 1 1 1 1 1 1 1 1 1 1 1 1 1 1 1 1 1 1 1 1 1\n",
            " 1 1 1 1 2 2 2 2 2 2 2 2 2 2 2 2 2 2 2 2 2 2 2 2 2 2 2 2 2 2 2 2 2 2 2 2 2\n",
            " 2 2 2 2 2 2 2 2 2 2 2 2 2 2 2 2 2 2 2 2 2 2 2 2 2 2 2 2 2 2 2 2 2 2 2 2 2\n",
            " 2 2 2 2 2]\n"
          ]
        },
        {
          "output_type": "stream",
          "name": "stderr",
          "text": [
            "/usr/local/lib/python3.7/dist-packages/tensorflow/python/client/session.py:1455: FutureWarning: Passing (type, 1) or '1type' as a synonym of type is deprecated; in a future version of numpy, it will be understood as (type, (1,)) / '(1,)type'.\n",
            "  run_metadata)\n"
          ]
        }
      ]
    },
    {
      "cell_type": "code",
      "source": [
        "#Evaluating test set for accuracy with voting\n",
        "testfile = dataset_relative_path + 'testset_voting_512.h5'\n",
        "session_path = 'train/dataset-512-1/cnn8_lr-0.00002_mbs-128/'\n",
        "model_file = 'model.meta'\n",
        "\n",
        "with h5.File(testfile, 'r') as testfile:\n",
        "    X_test_voting = testfile['X']\n",
        "    X_test_voting = np.array(X_test_voting) / 1000\n",
        "    y_test_voting = np.array(testfile['Y'])\n",
        "    \n",
        "    y_hat_test_voting = predict_voting(X_test_voting, session_path, model_file)\n",
        "    \n",
        "    print(\"Accuracy with voting: %f\" % (y_test_voting == y_hat_test_voting).mean())"
      ],
      "metadata": {
        "id": "XGkTbTJUDmUn",
        "colab": {
          "base_uri": "https://localhost:8080/"
        },
        "outputId": "b3e659d7-428d-40c1-9d90-78aca7c13b96"
      },
      "execution_count": null,
      "outputs": [
        {
          "output_type": "stream",
          "name": "stdout",
          "text": [
            "INFO:tensorflow:Restoring parameters from train/dataset-512-1/cnn8_lr-0.00002_mbs-128/model\n",
            "Accuracy with voting: 0.400000\n"
          ]
        }
      ]
    },
    {
      "cell_type": "code",
      "source": [
        "print(\"Hat Test Voting\",y_hat_test_voting)\n",
        "print(\"Test Voting\",y_test_voting)"
      ],
      "metadata": {
        "id": "dORmyhDeDmYN",
        "colab": {
          "base_uri": "https://localhost:8080/"
        },
        "outputId": "1226bf90-dd38-4153-8fab-f3d4a7f6fc02"
      },
      "execution_count": null,
      "outputs": [
        {
          "output_type": "stream",
          "name": "stdout",
          "text": [
            "Hat Test Voting [0, 0, 0, 0, 0, 0, 0, 0, 0, 0, 0, 0, 0, 0, 0, 0, 0, 0, 0, 0, 0, 0, 0, 0, 1, 0, 0, 0, 0, 1, 1, 0, 0, 0, 0, 0, 0, 1, 0, 0, 1, 0, 0, 0, 0, 0, 0, 0, 0, 0, 0, 0, 0, 0, 0, 0, 0, 0, 0, 0, 1, 0, 0, 0, 0, 0, 0, 0, 0, 0, 0, 0, 0, 0, 0, 0, 0, 0, 0, 0, 1, 2, 1, 1, 0, 1, 0, 0, 1, 0, 1, 0, 0, 1, 1, 0, 0, 2, 0, 0]\n",
            "Test Voting [0. 0. 0. 0. 0. 0. 0. 0. 0. 0. 0. 0. 0. 0. 0. 0. 0. 0. 0. 0. 0. 0. 0. 0.\n",
            " 0. 0. 0. 0. 0. 0. 0. 0. 0. 0. 0. 0. 0. 0. 0. 0. 1. 1. 1. 1. 1. 1. 1. 1.\n",
            " 1. 1. 1. 1. 1. 1. 1. 1. 1. 1. 1. 1. 1. 1. 1. 1. 1. 1. 1. 1. 1. 1. 1. 1.\n",
            " 1. 1. 1. 1. 1. 1. 1. 1. 2. 2. 2. 2. 2. 2. 2. 2. 2. 2. 2. 2. 2. 2. 2. 2.\n",
            " 2. 2. 2. 2.]\n"
          ]
        }
      ]
    },
    {
      "cell_type": "code",
      "source": [
        "def load_dataset(dataset_iter=1, window_size=512):\n",
        "    global X_train, Y_train, X_dev, Y_dev, X_test, Y_test\n",
        "    \n",
        "    dataset_relative_path = 'random-iter-%d/' % dataset_iter\n",
        "    \n",
        "    datafile = dataset_relative_path + 'datafile%d.h5' % window_size\n",
        "\n",
        "    with h5.File(datafile, 'r') as datafile:\n",
        "        X_train = np.array(datafile['X_train'])\n",
        "        Y_train = np.array(datafile['Y_train'])\n",
        "\n",
        "        X_dev = np.array(datafile['X_dev'])\n",
        "        Y_dev = np.array(datafile['Y_dev'])\n",
        "\n",
        "        X_test = np.array(datafile['X_test'])\n",
        "        Y_test = np.array(datafile['Y_test'])\n",
        "        \n",
        "        # setting the rank of the data to be compatible with 1d convolution functions\n",
        "        # defined in tensorflow\n",
        "        X_train = make_dimensions_compatible(X_train)\n",
        "        X_dev = make_dimensions_compatible(X_dev)\n",
        "        X_test = make_dimensions_compatible(X_test)\n",
        "        \n",
        "        # normalization\n",
        "        X_train = X_train / 1000\n",
        "        X_dev = X_dev / 1000\n",
        "        X_test = X_test / 1000\n"
      ],
      "metadata": {
        "id": "KjoPNVsG3E3H"
      },
      "execution_count": null,
      "outputs": []
    },
    {
      "cell_type": "code",
      "source": [
        "def get_session_path(dataset_iter=1, window_size=512, model_num=1, model_prefix='cnn', model_suffix='_lr-0.00002_mbs-128'):\n",
        "    return ('train/dataset-%d-%d/' + model_prefix + '%d' + model_suffix + '/') % (window_size, dataset_iter, model_num)\n"
      ],
      "metadata": {
        "id": "AyrRoMBe3E6M"
      },
      "execution_count": null,
      "outputs": []
    },
    {
      "cell_type": "code",
      "source": [
        "#Prediction\n",
        "def predict(X_test, session_path, model_file, Y_test_onehot=None):\n",
        "\n",
        "    # tf.compat.v1.reset_default_graph()\n",
        "    #tf.compat.v1.InteractiveSession() \n",
        "\n",
        "    loaded_graph = tf.Graph()\n",
        "    graph = tf.compat.v1.get_default_graph()\n",
        "\n",
        "\n",
        "    checkpoint_path = session_path\n",
        "    model_path = session_path + model_file\n",
        "\n",
        "    with tf.compat.v1.Session(graph=loaded_graph) as sess:\n",
        "        loader = tf.compat.v1.train.import_meta_graph(model_path)\n",
        "        loader.restore(sess, tf.train.latest_checkpoint(checkpoint_path))\n",
        "\n",
        "        \n",
        "        \n",
        "        X = loaded_graph.get_tensor_by_name('X:0')\n",
        "        Y = loaded_graph.get_tensor_by_name('Y:0')\n",
        "        is_train = loaded_graph.get_tensor_by_name('is_train:0')\n",
        "        \n",
        "#         epoch_counter = graph.get_tensor_by_name('epoch_counter:0')\n",
        "#         print(epoch_counter.eval())\n",
        "\n",
        "        Y_hat = loaded_graph.get_tensor_by_name('softmax_output:0')\n",
        "\n",
        "        predict_op = tf.compat.v1.argmax(Y_hat, 1)\n",
        "\n",
        "        y_hat_test = predict_op.eval({X: X_test, is_train: False})\n",
        "        \n",
        "        # print the accuracy of the test set if the labels are provided\n",
        "        if (Y_test_onehot is not None):\n",
        "            y_test = np.argmax(Y_test_onehot, 1)\n",
        "            acc = (y_hat_test == y_test).mean()\n",
        "        \n",
        "\n",
        "    return y_hat_test, acc"
      ],
      "metadata": {
        "id": "uwLrhJnd3E8p"
      },
      "execution_count": null,
      "outputs": []
    },
    {
      "cell_type": "code",
      "source": [
        "#Prediction with majority voting on ensemble network\n",
        "def predict_voting(X_test_voting, session_path, model_file):\n",
        "\n",
        "    \n",
        "    # tf.compat.v1.reset_default_graph()\n",
        "    loaded_graph = tf.Graph()\n",
        "    graph = tf.compat.v1.get_default_graph()\n",
        "\n",
        "\n",
        "    checkpoint_path = session_path\n",
        "    model_path = session_path + model_file       \n",
        "\n",
        "    \n",
        "    y_hat_test_voting = []\n",
        "\n",
        "    with tf.compat.v1.Session(graph=loaded_graph) as sess:\n",
        "        loader = tf.compat.v1.train.import_meta_graph(model_path)\n",
        "        loader.restore(sess, tf.train.latest_checkpoint(checkpoint_path))\n",
        "\n",
        "        X = loaded_graph.get_tensor_by_name('X:0')\n",
        "        is_train = loaded_graph.get_tensor_by_name('is_train:0')\n",
        "\n",
        "        Y_hat = loaded_graph.get_tensor_by_name('softmax_output:0')\n",
        "\n",
        "        predict_op = tf.compat.v1.argmax(Y_hat, 1)\n",
        "        \n",
        "        classname, idx, counts = tf.unique_with_counts(predict_op)\n",
        "        predict_voting_op = tf.compat.v1.gather(classname, tf.compat.v1.argmax(counts))\n",
        "\n",
        "        # no. of training examples with the original feature size\n",
        "        m = X_test_voting.shape[0]\n",
        "        \n",
        "        # no. of split training examples of each original example\n",
        "        m_each = X_test_voting.shape[1]\n",
        "        \n",
        "        for ex in range(m):\n",
        "            x_test_voting = make_dimensions_compatible(X_test_voting[ex])\n",
        "            pred = predict_voting_op.eval({X: x_test_voting, is_train: False})\n",
        "            \n",
        "            y_hat_test_voting.append(pred)\n",
        "\n",
        "    return y_hat_test_voting"
      ],
      "metadata": {
        "id": "aK0R7nuT3E-1"
      },
      "execution_count": null,
      "outputs": []
    },
    {
      "cell_type": "code",
      "source": [
        "#Accuracy measure\n",
        "# Run the following code to call the above define predict method and check accuracy of the models\n",
        "\n",
        "model_num = 8\n",
        "window_size = 512\n",
        "dataset_iters = (1, 2, 3, 4, 5, 6, 7, 8)\n",
        "\n",
        "accuracies = np.array([])\n"
      ],
      "metadata": {
        "id": "VCLgILTH3FBh"
      },
      "execution_count": null,
      "outputs": []
    },
    {
      "cell_type": "code",
      "source": [
        "for dataset_iter in range(dataset_iters):\n",
        "    load_dataset(dataset_iter=1, window_size=512)\n",
        "    # print(load_dataset(dataset_iter=dataset_iter, window_size=window_size)\n",
        "    predictions, acc = predict(X_test, get_session_path(dataset_iter=dataset_iters, window_size=512, model_num=model_num), 'model.meta', Y_test_onehot=Y_test)\n",
        "    print(predictions)\n",
        "    accuracies = np.append(accuracies, acc)\n",
        "\n",
        "accuracies = accuracies * 100\n",
        "print(accuracies)\n",
        "\n",
        "print(\"Mean accuracy: %f\" % accuracies.mean())"
      ],
      "metadata": {
        "colab": {
          "base_uri": "https://localhost:8080/"
        },
        "id": "QlDDxrau-9FO",
        "outputId": "5901d76a-3787-46d3-e06c-95b37314099f"
      },
      "execution_count": null,
      "outputs": [
        {
          "output_type": "stream",
          "name": "stdout",
          "text": [
            "INFO:tensorflow:Restoring parameters from train/dataset-512-1/cnn8_lr-0.00002_mbs-128/model\n",
            "[0 0 0 0 0 0 0 0 0 0 0 1 0 1 0 0 0 0 1 0 0 0 0 0 0 0 1 0 0 0 0 0 0 0 0 0 1\n",
            " 0 0 0 0 0 0 0 0 0 0 1 0 0 1 0 0 0 0 1 0 0 0 0 1 0 1 1 0 0 0 1 0 0 0 0 0 0\n",
            " 0 0 0 0 0 1 0 0 0 0 0 0 0 0 0 0 0 0 1 0 0 0 0 1 0 1 0 0 0 0 0 0 0 1 1 1 0\n",
            " 1 1 1 0 0 0 0 0 0 0 0 1 0 0 1 0 0 0 0 1 0 0 0 1 0 0 0 0 0 0 0 0 0 0 0 0 0\n",
            " 0 0 0 1 0 0 0 0 0 0 0 0 0 0 1 0 0 0 0 0 1 0 0 0 0 0 0 0 0 1 0 0 0 1 0 0 0\n",
            " 0 0 0 0 0 0 0 0 0 0 0 0 0 0 1 0 0 0 1 0 0 0 0 0 0 0 1 0 0 0 0 0 0 0 0 0 1\n",
            " 0 0 0 0 0 0 0 0 1 0 1 0 0 0 0 0 1 0 0 0 1 0 0 0 1 0 0 0 0 0 0 0 0 0 0 0 0\n",
            " 0 0 0 0 0 0 0 0 0 0 0 0 0 0 0 0 0 0 0 1 0 0 0 0 0 0 0 0 1 0 0 1 0 0 0 0 1\n",
            " 0 0 0 0 2 0 2 2 0 1 1 0 0 0 1 2 0 1 2 1 1 0 0 1 0 0 1 0 1 0 0 1 0 1 0 0 0\n",
            " 0 1 0 0 0 1 1 0 1 0 0 1 0 0 1 0 2 1 0 1 0 0 1 1 1 1 0 2 0 2 0 1 2 0 2 0 0\n",
            " 1 2 2 0 0]\n",
            "[4213.33333333 4186.66666667 4160.         4160.         4080.\n",
            " 4213.33333333 4133.33333333 4560.           41.06666667]\n",
            "Mean accuracy: 3749.748148\n"
          ]
        }
      ]
    },
    {
      "cell_type": "code",
      "source": [
        "import numpy as np\n",
        "#Single model accuracy with voting measure\n",
        "model_num = 8\n",
        "window_size = 512\n",
        "dataset_iters = (1)\n",
        "\n",
        "accuracies_voting = np.array([])\n",
        "sensitivities_voting = np.array([])\n",
        "specificities_voting = np.array([])\n",
        "precisions_voting = np.array([])"
      ],
      "metadata": {
        "id": "rD23sbCdo9GO"
      },
      "execution_count": null,
      "outputs": []
    },
    {
      "cell_type": "code",
      "source": [
        "# for dataset_iter in dataset_iters:\n",
        "dataset_relative_path = 'random-iter-1/'\n",
        "testset_voting_512 = 'testset_voting_512.h5'\n",
        "testfile = (dataset_relative_path + testset_voting_512) \n",
        "session_path = get_session_path(dataset_iter=1, window_size=512, model_num=model_num)\n",
        "model_file = 'model.meta'"
      ],
      "metadata": {
        "id": "WdpepV9UpRmR"
      },
      "execution_count": null,
      "outputs": []
    },
    {
      "cell_type": "code",
      "source": [
        "with h5.File(testfile, 'r') as testfile:\n",
        "        X_test_voting = testfile['X']\n",
        "        X_test_voting = np.array(X_test_voting) / 1000\n",
        "        y_test_voting = np.array(testfile['Y'])\n",
        "        \n",
        "        no_of_classes = 3\n",
        "\n",
        "        y_hat_test_voting = np.array(predict_voting(X_test_voting, session_path, model_file))\n",
        "\n",
        "        acc_voting_model = (y_test_voting == y_hat_test_voting)\n",
        "        accuracies_voting = np.append(accuracies_voting, acc_voting_model)\n",
        "        \n",
        "        # specificity and sensitivity\n",
        "        specificity = 0\n",
        "        sensitivity = 0\n",
        "        precision = 0\n",
        "        for i in range(no_of_classes):\n",
        "            specificity_vector = ((y_hat_test_voting != i) == (y_test_voting != i))[y_test_voting != i]\n",
        "            sensitivity_vector = ((y_hat_test_voting == i) == (y_test_voting == i))[y_test_voting == i]\n",
        "            precision_vector = ((y_hat_test_voting == i) == (y_test_voting == i))[y_hat_test_voting == i]\n",
        "            \n",
        "            specificity = specificity + specificity_vector.sum() / len(specificity_vector)\n",
        "            sensitivity = sensitivity + sensitivity_vector.sum() / len(sensitivity_vector)\n",
        "            precision = precision + precision_vector.sum() / len(precision_vector)\n",
        "        \n",
        "        specificity = specificity / no_of_classes\n",
        "        sensitivity = sensitivity / no_of_classes\n",
        "        precision = precision / no_of_classes\n",
        "        \n",
        "        specificities_voting = np.append(specificities_voting, specificity)\n",
        "        sensitivities_voting = np.append(sensitivities_voting, sensitivity)\n",
        "        precisions_voting = np.append(precisions_voting, precision)"
      ],
      "metadata": {
        "colab": {
          "base_uri": "https://localhost:8080/"
        },
        "id": "Te2blr6tpq2x",
        "outputId": "4949c296-051c-4ce2-d77d-b48f637b185b"
      },
      "execution_count": null,
      "outputs": [
        {
          "output_type": "stream",
          "name": "stdout",
          "text": [
            "INFO:tensorflow:Restoring parameters from train/dataset-512-1/cnn8_lr-0.00002_mbs-128/model\n"
          ]
        }
      ]
    },
    {
      "cell_type": "code",
      "source": [
        "# Computing F-Score\n",
        "Pre = precisions_voting.mean()\n",
        "Sen = sensitivities_voting.mean()\n",
        "F_Score = (2 * Pre * Sen) / (Pre + Sen)\n",
        "        \n",
        "accuracies_voting = accuracies_voting * 100\n",
        "print(\"Accuracy with voting: \", accuracies_voting)\n",
        "print(\"Mean accuracy with voting: %f\" % accuracies_voting.mean())\n",
        "print(\"\\n\\n\")\n",
        "print(\"Specifities: \", specificities_voting)\n",
        "print(\"Mean specificity with voting: %f\" % specificities_voting.mean())\n",
        "print(\"\\n\\n\")\n",
        "print(\"Sensitivities: \", sensitivities_voting)\n",
        "print(\"Mean sensitivity with voting: %f\" % sensitivities_voting.mean())\n",
        "print(\"Mean precision with voting: %f\" % Pre)\n",
        "print(\"Mean F-Score with voting: %f\" % F_Score)\n",
        "print(\"Standard deviation: %f\" % accuracies_voting.std())\n",
        "\n",
        "print(\"Actual labels:\\n\", y_test_voting)\n",
        "print(\"\\n\\nPredictions:\\n\", y_hat_test_voting)\n"
      ],
      "metadata": {
        "id": "JxjCVATf3FEF",
        "colab": {
          "base_uri": "https://localhost:8080/"
        },
        "outputId": "ac103222-a72a-4105-d505-fd31e2207b58"
      },
      "execution_count": null,
      "outputs": [
        {
          "output_type": "stream",
          "name": "stdout",
          "text": [
            "Accuracy with voting:  [100. 100. 100. 100. 100. 100. 100.   0. 100. 100. 100. 100. 100. 100.\n",
            " 100. 100. 100.   0. 100. 100. 100. 100. 100. 100. 100. 100. 100. 100.\n",
            " 100. 100. 100. 100. 100. 100. 100. 100. 100. 100. 100. 100.   0.   0.\n",
            "   0.   0.   0.   0.   0.   0.   0.   0.   0.   0.   0.   0.   0.   0.\n",
            "   0.   0.   0.   0.   0.   0.   0.   0.   0.   0.   0.   0.   0.   0.\n",
            "   0.   0. 100. 100.   0.   0.   0.   0.   0.   0.   0.   0. 100.   0.\n",
            "   0.   0.   0.   0.   0.   0.   0.   0.   0.   0.   0.   0.   0. 100.\n",
            "   0.   0.]\n",
            "Mean accuracy with voting: 42.000000\n",
            "\n",
            "\n",
            "\n",
            "Specifities:  [0.67777778]\n",
            "Mean specificity with voting: 0.677778\n",
            "\n",
            "\n",
            "\n",
            "Sensitivities:  [0.36666667]\n",
            "Mean sensitivity with voting: 0.366667\n",
            "Mean precision with voting: 0.531746\n",
            "Mean F-Score with voting: 0.434040\n",
            "Standard deviation: 49.355851\n",
            "Actual labels:\n",
            " [0. 0. 0. 0. 0. 0. 0. 0. 0. 0. 0. 0. 0. 0. 0. 0. 0. 0. 0. 0. 0. 0. 0. 0.\n",
            " 0. 0. 0. 0. 0. 0. 0. 0. 0. 0. 0. 0. 0. 0. 0. 0. 1. 1. 1. 1. 1. 1. 1. 1.\n",
            " 1. 1. 1. 1. 1. 1. 1. 1. 1. 1. 1. 1. 1. 1. 1. 1. 1. 1. 1. 1. 1. 1. 1. 1.\n",
            " 1. 1. 1. 1. 1. 1. 1. 1. 2. 2. 2. 2. 2. 2. 2. 2. 2. 2. 2. 2. 2. 2. 2. 2.\n",
            " 2. 2. 2. 2.]\n",
            "\n",
            "\n",
            "Predictions:\n",
            " [0 0 0 0 0 0 0 1 0 0 0 0 0 0 0 0 0 1 0 0 0 0 0 0 0 0 0 0 0 0 0 0 0 0 0 0 0\n",
            " 0 0 0 0 0 0 0 0 0 0 0 0 0 0 0 0 0 0 0 0 0 0 0 0 0 0 0 0 0 0 0 0 0 0 0 1 1\n",
            " 0 0 0 0 0 0 0 1 2 0 0 1 0 0 1 1 0 1 1 1 1 0 1 2 1 0]\n"
          ]
        }
      ]
    },
    {
      "cell_type": "code",
      "source": [
        "plt.plot(y_hat_test_voting)\n"
      ],
      "metadata": {
        "colab": {
          "base_uri": "https://localhost:8080/",
          "height": 282
        },
        "id": "NG3NO3UkIyjt",
        "outputId": "bf7fb294-b31f-4071-b956-a3388a2c4eac"
      },
      "execution_count": null,
      "outputs": [
        {
          "output_type": "execute_result",
          "data": {
            "text/plain": [
              "[<matplotlib.lines.Line2D at 0x7f445fcda990>]"
            ]
          },
          "metadata": {},
          "execution_count": 84
        },
        {
          "output_type": "display_data",
          "data": {
            "text/plain": [
              "<Figure size 432x288 with 1 Axes>"
            ],
            "image/png": "[encoded data removed]"
          },
          "metadata": {
            "needs_background": "light"
          }
        }
      ]
    },
    {
      "cell_type": "code",
      "source": [
        "plt.plot(y_test_voting)"
      ],
      "metadata": {
        "colab": {
          "base_uri": "https://localhost:8080/",
          "height": 282
        },
        "id": "ATN-o51dJQox",
        "outputId": "935210b9-4f46-4e46-9ebb-c532cd670c17"
      },
      "execution_count": null,
      "outputs": [
        {
          "output_type": "execute_result",
          "data": {
            "text/plain": [
              "[<matplotlib.lines.Line2D at 0x7f445fc4bd10>]"
            ]
          },
          "metadata": {},
          "execution_count": 85
        },
        {
          "output_type": "display_data",
          "data": {
            "text/plain": [
              "<Figure size 432x288 with 1 Axes>"
            ],
            "image/png": "[encoded data removed]"
          },
          "metadata": {
            "needs_background": "light"
          }
        }
      ]
    }
  ]
}